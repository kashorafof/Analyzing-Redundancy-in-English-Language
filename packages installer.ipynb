{
 "cells": [
  {
   "cell_type": "markdown",
   "metadata": {},
   "source": [
    "## Main configs"
   ]
  },
  {
   "cell_type": "code",
   "execution_count": 1,
   "metadata": {},
   "outputs": [
    {
     "name": "stdout",
     "output_type": "stream",
     "text": [
      "^C\n"
     ]
    }
   ],
   "source": [
    "#only run one time to install all the needed packages for the project\n",
    "\n",
    "# !pip install bs4\n",
    "# !pip install matplotlib\n",
    "# !pip install numpy\n",
    "# !pip install requests\n",
    "# !pip install httplib2\n",
    "# !pip install nltk\n",
    "# !pip install import_ipynb\n",
    "# !pip install textacy\n",
    "# !pip install spacy\n",
    "# !pip install scispacy\n",
    "# !pip install openpyxl\n",
    "# !pip install pandas\n",
    "\n",
    "\n",
    "!python -m spacy download en_core_web_lg\n",
    "\n",
    "import nltk\n",
    "nltk.download('punkt')\n",
    "nltk.download('treebank')\n",
    "nltk.download('omw-1.4')\n",
    "nltk.download('averaged_perceptron_tagger')\n",
    "nltk.download('maxent_treebank_pos_tagger')\n",
    "nltk.download('stopwords')\n",
    "nltk.download('wordnet')"
   ]
  }
 ],
 "metadata": {
  "kernelspec": {
   "display_name": "Python 3.9.1 64-bit",
   "language": "python",
   "name": "python3"
  },
  "language_info": {
   "codemirror_mode": {
    "name": "ipython",
    "version": 3
   },
   "file_extension": ".py",
   "mimetype": "text/x-python",
   "name": "python",
   "nbconvert_exporter": "python",
   "pygments_lexer": "ipython3",
   "version": "3.9.1"
  },
  "orig_nbformat": 4,
  "vscode": {
   "interpreter": {
    "hash": "5f52a3f3578b02bbf604551531def6b1550332462d8e3ad268b50e01ccd36abe"
   }
  }
 },
 "nbformat": 4,
 "nbformat_minor": 2
}
