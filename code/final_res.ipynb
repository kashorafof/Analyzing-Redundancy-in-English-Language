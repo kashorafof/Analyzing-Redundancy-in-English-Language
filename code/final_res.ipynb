{
 "cells": [
  {
   "cell_type": "markdown",
   "metadata": {},
   "source": [
    "# Sample Articles"
   ]
  },
  {
   "cell_type": "markdown",
   "metadata": {},
   "source": [
    "We'll get some articles and predict their category to see how the model works on newly scraped data. These will allow further comprehension of the model and we will be able to determine a threshold to assign a given article to the category `other`.\n"
   ]
  },
  {
   "cell_type": "markdown",
   "metadata": {},
   "source": [
    "We have to import:\n",
    "\n",
    "* Trained models\n",
    "* TF-IDF model"
   ]
  },
  {
   "cell_type": "code",
   "execution_count": 4,
   "metadata": {},
   "outputs": [],
   "source": [
    "import pickle\n",
    "import pandas as pd\n",
    "import nltk\n",
    "from nltk.corpus import stopwords\n",
    "from nltk.tokenize import punkt\n",
    "from nltk.corpus.reader import wordnet\n",
    "from nltk.stem import WordNetLemmatizer\n",
    "from sklearn.feature_extraction.text import TfidfVectorizer"
   ]
  },
  {
   "cell_type": "markdown",
   "metadata": {},
   "source": [
    "nltk.download('stopwords')\n",
    "nltk.download('corpora')\n",
    "nltk.download('wordnet')\n",
    "nltk.download('omw-1.4')\n",
    " "
   ]
  },
  {
   "cell_type": "markdown",
   "metadata": {},
   "source": [
    "#### Trained models"
   ]
  },
  {
   "cell_type": "code",
   "execution_count": 5,
   "metadata": {},
   "outputs": [],
   "source": [
    "path_models = \"./04. Model Training/Models/\"\n",
    "\n",
    "# SVM\n",
    "path_svm = path_models + 'best_svc.pickle'\n",
    "with open(path_svm, 'rb') as data:\n",
    "    svc_model = pickle.load(data)"
   ]
  },
  {
   "cell_type": "markdown",
   "metadata": {},
   "source": [
    "#### TF-IDF object"
   ]
  },
  {
   "cell_type": "code",
   "execution_count": 6,
   "metadata": {},
   "outputs": [
    {
     "name": "stderr",
     "output_type": "stream",
     "text": [
      "C:\\Users\\makm7\\AppData\\Local\\Temp\\ipykernel_544\\2656098337.py:3: DeprecationWarning: Please use `csr_matrix` from the `scipy.sparse` namespace, the `scipy.sparse.csr` namespace is deprecated.\n",
      "  tfidf = pickle.load(data)\n",
      "c:\\Users\\makm7\\AppData\\Local\\Programs\\Python\\Python39\\lib\\site-packages\\sklearn\\base.py:329: UserWarning: Trying to unpickle estimator TfidfTransformer from version 0.19.1 when using version 1.1.1. This might lead to breaking code or invalid results. Use at your own risk. For more info please refer to:\n",
      "https://scikit-learn.org/stable/model_persistence.html#security-maintainability-limitations\n",
      "  warnings.warn(\n",
      "c:\\Users\\makm7\\AppData\\Local\\Programs\\Python\\Python39\\lib\\site-packages\\sklearn\\base.py:329: UserWarning: Trying to unpickle estimator TfidfVectorizer from version 0.19.1 when using version 1.1.1. This might lead to breaking code or invalid results. Use at your own risk. For more info please refer to:\n",
      "https://scikit-learn.org/stable/model_persistence.html#security-maintainability-limitations\n",
      "  warnings.warn(\n"
     ]
    }
   ],
   "source": [
    "path_tfidf = \"./03. Feature Engineering/Pickles/tfidf.pickle\"\n",
    "with open(path_tfidf, 'rb') as data:\n",
    "    tfidf = pickle.load(data)"
   ]
  },
  {
   "cell_type": "markdown",
   "metadata": {},
   "source": [
    "#### Category mapping dictionary"
   ]
  },
  {
   "cell_type": "code",
   "execution_count": 7,
   "metadata": {},
   "outputs": [],
   "source": [
    "category_codes = {\n",
    "    'business': 0,\n",
    "    'entertainment': 1,\n",
    "    'politics': 2,\n",
    "    'sport': 3,\n",
    "    'tech': 4\n",
    "}"
   ]
  },
  {
   "cell_type": "markdown",
   "metadata": {},
   "source": [
    "#### Feature engineering workflow"
   ]
  },
  {
   "cell_type": "code",
   "execution_count": 9,
   "metadata": {},
   "outputs": [],
   "source": [
    "punctuation_signs = list(\"?:!.,;\")\n",
    "stop_words = list(stopwords.words('english'))\n",
    "\n",
    "def create_features_from_text(text):\n",
    "    \n",
    "    # Dataframe creation\n",
    "    lemmatized_text_list = []\n",
    "    df = pd.DataFrame(columns=['Content'])\n",
    "    df.loc[0] = text\n",
    "    df['Content_Parsed_1'] = df['Content'].str.replace(\"\\r\", \" \", regex=True)\n",
    "    df['Content_Parsed_1'] = df['Content_Parsed_1'].str.replace(\"\\n\", \" \", regex=True)\n",
    "    df['Content_Parsed_1'] = df['Content_Parsed_1'].str.replace(\"    \", \" \", regex=True)\n",
    "    df['Content_Parsed_1'] = df['Content_Parsed_1'].str.replace('\"', '', regex=True)\n",
    "    df['Content_Parsed_2'] = df['Content_Parsed_1'].str.lower()\n",
    "    df['Content_Parsed_3'] = df['Content_Parsed_2']\n",
    "    for punct_sign in punctuation_signs:\n",
    "        df['Content_Parsed_3'] = df['Content_Parsed_3'].str.replace(punct_sign, '', regex=True)\n",
    "    df['Content_Parsed_4'] = df['Content_Parsed_3'].str.replace(\"'s\", \"\", regex=True)\n",
    "    wordnet_lemmatizer = WordNetLemmatizer()\n",
    "    lemmatized_list = []\n",
    "    text = df.loc[0]['Content_Parsed_4']\n",
    "    text_words = text.split(\" \")\n",
    "    for word in text_words:\n",
    "        lemmatized_list.append(wordnet_lemmatizer.lemmatize(word, pos=\"v\"))\n",
    "    lemmatized_text = \" \".join(lemmatized_list)    \n",
    "    lemmatized_text_list.append(lemmatized_text)\n",
    "    df['Content_Parsed_5'] = lemmatized_text_list\n",
    "    df['Content_Parsed_6'] = df['Content_Parsed_5']\n",
    "    for stop_word in stop_words:\n",
    "        regex_stopword = r\"\\b\" + stop_word + r\"\\b\"\n",
    "        df['Content_Parsed_6'] = df['Content_Parsed_6'].str.replace(regex_stopword, '', regex=True)\n",
    "    df = df['Content_Parsed_6']\n",
    "    \n",
    "    #avg = df.groupby(df.index).mean().reset_index().rename(\"mean\")\n",
    "    #avg = df.groupby(df.index).mean().rename('mean')\n",
    "\n",
    "    # TF-IDF\n",
    "    features = tfidf.transform(df).toarray()\n",
    "    \n",
    "    return features"
   ]
  },
  {
   "cell_type": "markdown",
   "metadata": {},
   "source": [
    "Now let's write a function that tells us the category given the category code:"
   ]
  },
  {
   "cell_type": "code",
   "execution_count": 10,
   "metadata": {},
   "outputs": [],
   "source": [
    "def get_category_name(category_id):\n",
    "    for category, id_ in category_codes.items():    \n",
    "        if id_ == category_id:\n",
    "            return category"
   ]
  },
  {
   "cell_type": "markdown",
   "metadata": {},
   "source": [
    "Finally, let's write a function that includes the whole process:"
   ]
  },
  {
   "cell_type": "code",
   "execution_count": 11,
   "metadata": {},
   "outputs": [],
   "source": [
    "def predict_from_text(text):\n",
    "    \n",
    "    # Predict using the input model\n",
    "    prediction_svc = svc_model.predict(create_features_from_text(text))[0]\n",
    "    prediction_svc_proba = svc_model.predict_proba(create_features_from_text(text))[0]\n",
    "    \n",
    "    # Return result\n",
    "    category_svc = get_category_name(prediction_svc)\n",
    "    return category_svc, prediction_svc_proba.max()*100\n",
    "    print(\"The predicted category using the SVM model is %s.\" %(category_svc) )\n",
    "    print(\"The conditional probability is: %a\" %(prediction_svc_proba.max()*100))"
   ]
  },
  {
   "cell_type": "markdown",
   "metadata": {},
   "source": [
    "### Text introduction and prediction\n",
    "\n",
    "Please introduce `text`:"
   ]
  },
  {
   "cell_type": "code",
   "execution_count": 2,
   "metadata": {},
   "outputs": [],
   "source": [
    "text = \"\"\"\n",
    "\n",
    "The center-right party Ciudadanos closed a deal on Wednesday with the support of the conservative Popular Party (PP) to take control of the speaker’s committee in the Andalusian parliament, paving the way for the regional PP leader, Juan Manuel Moreno, to stand as the candidate for premier of the southern Spanish region. The move would see the Socialist Party (PSOE) lose power in the Junta, as the regional government is known, for the first time in 36 years.\n",
    "\n",
    "Talks in Andalusia have been ongoing since regional polls were held on December 2. The PSOE, led by incumbent premier Susana Díaz, had been expected to win the early elections, but in a shock result the party took the most seats in parliament, 33, but fell well short of a majority of 55. It was their worst result in the region since Spain returned to democracy. The PP came in second, with 26 seats, while Ciudadanos were third with 21. The major surprise was the strong performance of far-right group Vox, which won more than 391,000 votes (10.9%), giving it 12 deputies. The anti-immigration group is the first of its kind to win seats in a Spanish parliament since the end of the Francisco Franco dictatorship. It now holds the key to power in Andalusia, given that its votes, added to those of the PP and Ciudadanos, constitute an absolute majority.\n",
    "\n",
    "The move would see the Socialist Party lose power in the region for the first time in 36 years\n",
    "\n",
    "On Thursday, Marta Bosquet of Ciudadanos was voted in as the new speaker of the Andalusian parliament thanks to 59 votes from her party, the PP and Vox. The other candidate, Inmaculada Nieto of Adelante Andalucía, secured 50 votes – from her own party and 33 from the PSOE.\n",
    "\n",
    "The speaker’s role in the parliament is key for the calling of an investiture vote and for the selection of the candidate for premier.\n",
    "\n",
    "Officially, the talks as to the make up of a future government have yet to start, but in reality they are well advanced, according to sources from both the PP and Ciudadanos. The leader of the Andalusian PP is banking on being voted into power around January 16 and wants the majority of his Cabinet to be decided “five days before the investiture vote.”\n",
    "\n",
    "The speaker’s role in the parliament is key for the calling of an investiture vote and for the selection of the candidate for premier\n",
    "\n",
    "The PP, which was ousted from power by the PSOE in the national government in June, is keen to take the reins of power in Andalusia as soon as possible. The difficulties that Ciudadanos has faced to justify the necessary inclusion of Vox in the talks, has slowed down progress. Rather than align itself with the far right party, the group – which began life in Catalonia in response to the independence drive, but soon launched onto the national stage – had sought a deal with Adelante Andalucía.\n",
    "\n",
    "Wednesday was a day of intense talks among the parties in a bid to find a solution that would keep everyone happy. But at 9pm last night, Adelante Andalucía announced that it would not be part of “any deal” and that would instead vote for its own candidates to the speaker’s committee in order to “face up to the right wing and the extreme right.”\n",
    "\n",
    "The PSOE, meanwhile, argues that having won the elections with a seven-seat lead over the PP gives it the legitimacy to aspire to the control of the regional government and the parliament, and to maintain its positions on the speaker’s committee.\n",
    "\n",
    "\n",
    "\n",
    "\"\"\""
   ]
  },
  {
   "cell_type": "code",
   "execution_count": 14,
   "metadata": {},
   "outputs": [
    {
     "name": "stderr",
     "output_type": "stream",
     "text": [
      "C:\\Users\\makm7\\AppData\\Local\\Temp\\ipykernel_544\\199367840.py:17: FutureWarning: The default value of regex will change from True to False in a future version. In addition, single character regular expressions will *not* be treated as literal strings when regex=True.\n",
      "  df['Content_Parsed_3'] = df['Content_Parsed_3'].str.replace(punct_sign, '')\n",
      "C:\\Users\\makm7\\AppData\\Local\\Temp\\ipykernel_544\\199367840.py:31: FutureWarning: The default value of regex will change from True to False in a future version.\n",
      "  df['Content_Parsed_6'] = df['Content_Parsed_6'].str.replace(regex_stopword, '')\n",
      "C:\\Users\\makm7\\AppData\\Local\\Temp\\ipykernel_544\\199367840.py:17: FutureWarning: The default value of regex will change from True to False in a future version. In addition, single character regular expressions will *not* be treated as literal strings when regex=True.\n",
      "  df['Content_Parsed_3'] = df['Content_Parsed_3'].str.replace(punct_sign, '')\n",
      "C:\\Users\\makm7\\AppData\\Local\\Temp\\ipykernel_544\\199367840.py:31: FutureWarning: The default value of regex will change from True to False in a future version.\n",
      "  df['Content_Parsed_6'] = df['Content_Parsed_6'].str.replace(regex_stopword, '')\n"
     ]
    }
   ],
   "source": [
    "cat,s = predict_from_text(text)"
   ]
  },
  {
   "cell_type": "markdown",
   "metadata": {},
   "source": [
    "## Threshold determination"
   ]
  },
  {
   "cell_type": "markdown",
   "metadata": {},
   "source": [
    "We'll introduce some news articles text and see how the conditional probability vector behaves. Firstly we'll introduce articles that clearly belong to one of the five categories and then, we'll introduce articles that do not belong to neither of them."
   ]
  },
  {
   "cell_type": "markdown",
   "metadata": {},
   "source": [
    "### Articles that clearly belong to one of the five categories"
   ]
  },
  {
   "cell_type": "code",
   "execution_count": 20,
   "metadata": {},
   "outputs": [
    {
     "name": "stderr",
     "output_type": "stream",
     "text": [
      "C:\\Users\\kasho\\AppData\\Local\\Temp\\ipykernel_19468\\199367840.py:17: FutureWarning: The default value of regex will change from True to False in a future version. In addition, single character regular expressions will *not* be treated as literal strings when regex=True.\n",
      "  df['Content_Parsed_3'] = df['Content_Parsed_3'].str.replace(punct_sign, '')\n",
      "C:\\Users\\kasho\\AppData\\Local\\Temp\\ipykernel_19468\\199367840.py:31: FutureWarning: The default value of regex will change from True to False in a future version.\n",
      "  df['Content_Parsed_6'] = df['Content_Parsed_6'].str.replace(regex_stopword, '')\n"
     ]
    },
    {
     "ename": "KeyboardInterrupt",
     "evalue": "",
     "output_type": "error",
     "traceback": [
      "\u001b[1;31m---------------------------------------------------------------------------\u001b[0m",
      "\u001b[1;31mKeyboardInterrupt\u001b[0m                         Traceback (most recent call last)",
      "\u001b[1;32mc:\\Users\\kasho\\OneDrive\\Desktop\\artical_gatherer\\code\\Model_Training\\final_res.ipynb Cell 24'\u001b[0m in \u001b[0;36m<cell line: 34>\u001b[1;34m()\u001b[0m\n\u001b[0;32m      <a href='vscode-notebook-cell:/c%3A/Users/kasho/OneDrive/Desktop/artical_gatherer/code/Model_Training/final_res.ipynb#ch0000023?line=0'>1</a>\u001b[0m \u001b[39m# Politics\u001b[39;00m\n\u001b[0;32m      <a href='vscode-notebook-cell:/c%3A/Users/kasho/OneDrive/Desktop/artical_gatherer/code/Model_Training/final_res.ipynb#ch0000023?line=2'>3</a>\u001b[0m text \u001b[39m=\u001b[39m \u001b[39m\"\"\"\u001b[39m\u001b[39mDisputes have already broken out within the new political alliance that is working to end 36 years of rule by the Socialist Party (PSOE) in Spain’s southern region of Andalusia.\u001b[39m\n\u001b[0;32m      <a href='vscode-notebook-cell:/c%3A/Users/kasho/OneDrive/Desktop/artical_gatherer/code/Model_Training/final_res.ipynb#ch0000023?line=3'>4</a>\u001b[0m \n\u001b[0;32m      <a href='vscode-notebook-cell:/c%3A/Users/kasho/OneDrive/Desktop/artical_gatherer/code/Model_Training/final_res.ipynb#ch0000023?line=4'>5</a>\u001b[0m \u001b[39mJust hours after the far-right Vox agreed to support the Popular Party (PP)’s candidate to head the region, Juan Manuel Moreno, its demand for a specific regional department for family affairs is running into opposition from Ciudadanos (Citizens), the third party involved in the government change.\u001b[39m\n\u001b[1;32m   (...)\u001b[0m\n\u001b[0;32m     <a href='vscode-notebook-cell:/c%3A/Users/kasho/OneDrive/Desktop/artical_gatherer/code/Model_Training/final_res.ipynb#ch0000023?line=30'>31</a>\u001b[0m \n\u001b[0;32m     <a href='vscode-notebook-cell:/c%3A/Users/kasho/OneDrive/Desktop/artical_gatherer/code/Model_Training/final_res.ipynb#ch0000023?line=31'>32</a>\u001b[0m \u001b[39m\"\"\"\u001b[39m\n\u001b[1;32m---> <a href='vscode-notebook-cell:/c%3A/Users/kasho/OneDrive/Desktop/artical_gatherer/code/Model_Training/final_res.ipynb#ch0000023?line=33'>34</a>\u001b[0m predict_from_text(text)\n",
      "\u001b[1;32mc:\\Users\\kasho\\OneDrive\\Desktop\\artical_gatherer\\code\\Model_Training\\final_res.ipynb Cell 17'\u001b[0m in \u001b[0;36mpredict_from_text\u001b[1;34m(text)\u001b[0m\n\u001b[0;32m      <a href='vscode-notebook-cell:/c%3A/Users/kasho/OneDrive/Desktop/artical_gatherer/code/Model_Training/final_res.ipynb#ch0000016?line=0'>1</a>\u001b[0m \u001b[39mdef\u001b[39;00m \u001b[39mpredict_from_text\u001b[39m(text):\n\u001b[0;32m      <a href='vscode-notebook-cell:/c%3A/Users/kasho/OneDrive/Desktop/artical_gatherer/code/Model_Training/final_res.ipynb#ch0000016?line=1'>2</a>\u001b[0m     \n\u001b[0;32m      <a href='vscode-notebook-cell:/c%3A/Users/kasho/OneDrive/Desktop/artical_gatherer/code/Model_Training/final_res.ipynb#ch0000016?line=2'>3</a>\u001b[0m     \u001b[39m# Predict using the input model\u001b[39;00m\n\u001b[1;32m----> <a href='vscode-notebook-cell:/c%3A/Users/kasho/OneDrive/Desktop/artical_gatherer/code/Model_Training/final_res.ipynb#ch0000016?line=3'>4</a>\u001b[0m     prediction_svc \u001b[39m=\u001b[39m svc_model\u001b[39m.\u001b[39mpredict(create_features_from_text(text))[\u001b[39m0\u001b[39m]\n\u001b[0;32m      <a href='vscode-notebook-cell:/c%3A/Users/kasho/OneDrive/Desktop/artical_gatherer/code/Model_Training/final_res.ipynb#ch0000016?line=4'>5</a>\u001b[0m     prediction_svc_proba \u001b[39m=\u001b[39m svc_model\u001b[39m.\u001b[39mpredict_proba(create_features_from_text(text))[\u001b[39m0\u001b[39m]\n\u001b[0;32m      <a href='vscode-notebook-cell:/c%3A/Users/kasho/OneDrive/Desktop/artical_gatherer/code/Model_Training/final_res.ipynb#ch0000016?line=6'>7</a>\u001b[0m     \u001b[39m# Return result\u001b[39;00m\n",
      "\u001b[1;32mc:\\Users\\kasho\\OneDrive\\Desktop\\artical_gatherer\\code\\Model_Training\\final_res.ipynb Cell 13'\u001b[0m in \u001b[0;36mcreate_features_from_text\u001b[1;34m(text)\u001b[0m\n\u001b[0;32m     <a href='vscode-notebook-cell:/c%3A/Users/kasho/OneDrive/Desktop/artical_gatherer/code/Model_Training/final_res.ipynb#ch0000012?line=28'>29</a>\u001b[0m \u001b[39mfor\u001b[39;00m stop_word \u001b[39min\u001b[39;00m stop_words:\n\u001b[0;32m     <a href='vscode-notebook-cell:/c%3A/Users/kasho/OneDrive/Desktop/artical_gatherer/code/Model_Training/final_res.ipynb#ch0000012?line=29'>30</a>\u001b[0m     regex_stopword \u001b[39m=\u001b[39m \u001b[39mr\u001b[39m\u001b[39m\"\u001b[39m\u001b[39m\\\u001b[39m\u001b[39mb\u001b[39m\u001b[39m\"\u001b[39m \u001b[39m+\u001b[39m stop_word \u001b[39m+\u001b[39m \u001b[39mr\u001b[39m\u001b[39m\"\u001b[39m\u001b[39m\\\u001b[39m\u001b[39mb\u001b[39m\u001b[39m\"\u001b[39m\n\u001b[1;32m---> <a href='vscode-notebook-cell:/c%3A/Users/kasho/OneDrive/Desktop/artical_gatherer/code/Model_Training/final_res.ipynb#ch0000012?line=30'>31</a>\u001b[0m     df[\u001b[39m'\u001b[39m\u001b[39mContent_Parsed_6\u001b[39m\u001b[39m'\u001b[39m] \u001b[39m=\u001b[39m df[\u001b[39m'\u001b[39;49m\u001b[39mContent_Parsed_6\u001b[39;49m\u001b[39m'\u001b[39;49m]\u001b[39m.\u001b[39;49mstr\u001b[39m.\u001b[39;49mreplace(regex_stopword, \u001b[39m'\u001b[39;49m\u001b[39m'\u001b[39;49m)\n\u001b[0;32m     <a href='vscode-notebook-cell:/c%3A/Users/kasho/OneDrive/Desktop/artical_gatherer/code/Model_Training/final_res.ipynb#ch0000012?line=31'>32</a>\u001b[0m df \u001b[39m=\u001b[39m df[\u001b[39m'\u001b[39m\u001b[39mContent_Parsed_6\u001b[39m\u001b[39m'\u001b[39m]\n\u001b[0;32m     <a href='vscode-notebook-cell:/c%3A/Users/kasho/OneDrive/Desktop/artical_gatherer/code/Model_Training/final_res.ipynb#ch0000012?line=33'>34</a>\u001b[0m \u001b[39m#avg = df.groupby(df.index).mean().reset_index().rename(\"mean\")\u001b[39;00m\n\u001b[0;32m     <a href='vscode-notebook-cell:/c%3A/Users/kasho/OneDrive/Desktop/artical_gatherer/code/Model_Training/final_res.ipynb#ch0000012?line=34'>35</a>\u001b[0m \u001b[39m#avg = df.groupby(df.index).mean().rename('mean')\u001b[39;00m\n\u001b[0;32m     <a href='vscode-notebook-cell:/c%3A/Users/kasho/OneDrive/Desktop/artical_gatherer/code/Model_Training/final_res.ipynb#ch0000012?line=35'>36</a>\u001b[0m \n\u001b[0;32m     <a href='vscode-notebook-cell:/c%3A/Users/kasho/OneDrive/Desktop/artical_gatherer/code/Model_Training/final_res.ipynb#ch0000012?line=36'>37</a>\u001b[0m \u001b[39m# TF-IDF\u001b[39;00m\n",
      "File \u001b[1;32m~\\AppData\\Local\\Packages\\PythonSoftwareFoundation.Python.3.10_qbz5n2kfra8p0\\LocalCache\\local-packages\\Python310\\site-packages\\pandas\\core\\strings\\accessor.py:125\u001b[0m, in \u001b[0;36mforbid_nonstring_types.<locals>._forbid_nonstring_types.<locals>.wrapper\u001b[1;34m(self, *args, **kwargs)\u001b[0m\n\u001b[0;32m    <a href='file:///c%3A/Users/kasho/AppData/Local/Packages/PythonSoftwareFoundation.Python.3.10_qbz5n2kfra8p0/LocalCache/local-packages/Python310/site-packages/pandas/core/strings/accessor.py?line=119'>120</a>\u001b[0m     msg \u001b[39m=\u001b[39m (\n\u001b[0;32m    <a href='file:///c%3A/Users/kasho/AppData/Local/Packages/PythonSoftwareFoundation.Python.3.10_qbz5n2kfra8p0/LocalCache/local-packages/Python310/site-packages/pandas/core/strings/accessor.py?line=120'>121</a>\u001b[0m         \u001b[39mf\u001b[39m\u001b[39m\"\u001b[39m\u001b[39mCannot use .str.\u001b[39m\u001b[39m{\u001b[39;00mfunc_name\u001b[39m}\u001b[39;00m\u001b[39m with values of \u001b[39m\u001b[39m\"\u001b[39m\n\u001b[0;32m    <a href='file:///c%3A/Users/kasho/AppData/Local/Packages/PythonSoftwareFoundation.Python.3.10_qbz5n2kfra8p0/LocalCache/local-packages/Python310/site-packages/pandas/core/strings/accessor.py?line=121'>122</a>\u001b[0m         \u001b[39mf\u001b[39m\u001b[39m\"\u001b[39m\u001b[39minferred dtype \u001b[39m\u001b[39m'\u001b[39m\u001b[39m{\u001b[39;00m\u001b[39mself\u001b[39m\u001b[39m.\u001b[39m_inferred_dtype\u001b[39m}\u001b[39;00m\u001b[39m'\u001b[39m\u001b[39m.\u001b[39m\u001b[39m\"\u001b[39m\n\u001b[0;32m    <a href='file:///c%3A/Users/kasho/AppData/Local/Packages/PythonSoftwareFoundation.Python.3.10_qbz5n2kfra8p0/LocalCache/local-packages/Python310/site-packages/pandas/core/strings/accessor.py?line=122'>123</a>\u001b[0m     )\n\u001b[0;32m    <a href='file:///c%3A/Users/kasho/AppData/Local/Packages/PythonSoftwareFoundation.Python.3.10_qbz5n2kfra8p0/LocalCache/local-packages/Python310/site-packages/pandas/core/strings/accessor.py?line=123'>124</a>\u001b[0m     \u001b[39mraise\u001b[39;00m \u001b[39mTypeError\u001b[39;00m(msg)\n\u001b[1;32m--> <a href='file:///c%3A/Users/kasho/AppData/Local/Packages/PythonSoftwareFoundation.Python.3.10_qbz5n2kfra8p0/LocalCache/local-packages/Python310/site-packages/pandas/core/strings/accessor.py?line=124'>125</a>\u001b[0m \u001b[39mreturn\u001b[39;00m func(\u001b[39mself\u001b[39m, \u001b[39m*\u001b[39margs, \u001b[39m*\u001b[39m\u001b[39m*\u001b[39mkwargs)\n",
      "File \u001b[1;32m~\\AppData\\Local\\Packages\\PythonSoftwareFoundation.Python.3.10_qbz5n2kfra8p0\\LocalCache\\local-packages\\Python310\\site-packages\\pandas\\core\\strings\\accessor.py:1431\u001b[0m, in \u001b[0;36mStringMethods.replace\u001b[1;34m(self, pat, repl, n, case, flags, regex)\u001b[0m\n\u001b[0;32m   <a href='file:///c%3A/Users/kasho/AppData/Local/Packages/PythonSoftwareFoundation.Python.3.10_qbz5n2kfra8p0/LocalCache/local-packages/Python310/site-packages/pandas/core/strings/accessor.py?line=1425'>1426</a>\u001b[0m         \u001b[39mif\u001b[39;00m \u001b[39mlen\u001b[39m(pat) \u001b[39m==\u001b[39m \u001b[39m1\u001b[39m:\n\u001b[0;32m   <a href='file:///c%3A/Users/kasho/AppData/Local/Packages/PythonSoftwareFoundation.Python.3.10_qbz5n2kfra8p0/LocalCache/local-packages/Python310/site-packages/pandas/core/strings/accessor.py?line=1426'>1427</a>\u001b[0m             msg \u001b[39m+\u001b[39m\u001b[39m=\u001b[39m (\n\u001b[0;32m   <a href='file:///c%3A/Users/kasho/AppData/Local/Packages/PythonSoftwareFoundation.Python.3.10_qbz5n2kfra8p0/LocalCache/local-packages/Python310/site-packages/pandas/core/strings/accessor.py?line=1427'>1428</a>\u001b[0m                 \u001b[39m\"\u001b[39m\u001b[39m In addition, single character regular expressions will \u001b[39m\u001b[39m\"\u001b[39m\n\u001b[0;32m   <a href='file:///c%3A/Users/kasho/AppData/Local/Packages/PythonSoftwareFoundation.Python.3.10_qbz5n2kfra8p0/LocalCache/local-packages/Python310/site-packages/pandas/core/strings/accessor.py?line=1428'>1429</a>\u001b[0m                 \u001b[39m\"\u001b[39m\u001b[39m*not* be treated as literal strings when regex=True.\u001b[39m\u001b[39m\"\u001b[39m\n\u001b[0;32m   <a href='file:///c%3A/Users/kasho/AppData/Local/Packages/PythonSoftwareFoundation.Python.3.10_qbz5n2kfra8p0/LocalCache/local-packages/Python310/site-packages/pandas/core/strings/accessor.py?line=1429'>1430</a>\u001b[0m             )\n\u001b[1;32m-> <a href='file:///c%3A/Users/kasho/AppData/Local/Packages/PythonSoftwareFoundation.Python.3.10_qbz5n2kfra8p0/LocalCache/local-packages/Python310/site-packages/pandas/core/strings/accessor.py?line=1430'>1431</a>\u001b[0m         warnings\u001b[39m.\u001b[39mwarn(msg, \u001b[39mFutureWarning\u001b[39;00m, stacklevel\u001b[39m=\u001b[39mfind_stack_level())\n\u001b[0;32m   <a href='file:///c%3A/Users/kasho/AppData/Local/Packages/PythonSoftwareFoundation.Python.3.10_qbz5n2kfra8p0/LocalCache/local-packages/Python310/site-packages/pandas/core/strings/accessor.py?line=1432'>1433</a>\u001b[0m \u001b[39m# Check whether repl is valid (GH 13438, GH 15055)\u001b[39;00m\n\u001b[0;32m   <a href='file:///c%3A/Users/kasho/AppData/Local/Packages/PythonSoftwareFoundation.Python.3.10_qbz5n2kfra8p0/LocalCache/local-packages/Python310/site-packages/pandas/core/strings/accessor.py?line=1433'>1434</a>\u001b[0m \u001b[39mif\u001b[39;00m \u001b[39mnot\u001b[39;00m (\u001b[39misinstance\u001b[39m(repl, \u001b[39mstr\u001b[39m) \u001b[39mor\u001b[39;00m callable(repl)):\n",
      "File \u001b[1;32m~\\AppData\\Local\\Packages\\PythonSoftwareFoundation.Python.3.10_qbz5n2kfra8p0\\LocalCache\\local-packages\\Python310\\site-packages\\pandas\\util\\_exceptions.py:32\u001b[0m, in \u001b[0;36mfind_stack_level\u001b[1;34m()\u001b[0m\n\u001b[0;32m     <a href='file:///c%3A/Users/kasho/AppData/Local/Packages/PythonSoftwareFoundation.Python.3.10_qbz5n2kfra8p0/LocalCache/local-packages/Python310/site-packages/pandas/util/_exceptions.py?line=26'>27</a>\u001b[0m \u001b[39mdef\u001b[39;00m \u001b[39mfind_stack_level\u001b[39m() \u001b[39m-\u001b[39m\u001b[39m>\u001b[39m \u001b[39mint\u001b[39m:\n\u001b[0;32m     <a href='file:///c%3A/Users/kasho/AppData/Local/Packages/PythonSoftwareFoundation.Python.3.10_qbz5n2kfra8p0/LocalCache/local-packages/Python310/site-packages/pandas/util/_exceptions.py?line=27'>28</a>\u001b[0m     \u001b[39m\"\"\"\u001b[39;00m\n\u001b[0;32m     <a href='file:///c%3A/Users/kasho/AppData/Local/Packages/PythonSoftwareFoundation.Python.3.10_qbz5n2kfra8p0/LocalCache/local-packages/Python310/site-packages/pandas/util/_exceptions.py?line=28'>29</a>\u001b[0m \u001b[39m    Find the first place in the stack that is not inside pandas\u001b[39;00m\n\u001b[0;32m     <a href='file:///c%3A/Users/kasho/AppData/Local/Packages/PythonSoftwareFoundation.Python.3.10_qbz5n2kfra8p0/LocalCache/local-packages/Python310/site-packages/pandas/util/_exceptions.py?line=29'>30</a>\u001b[0m \u001b[39m    (tests notwithstanding).\u001b[39;00m\n\u001b[0;32m     <a href='file:///c%3A/Users/kasho/AppData/Local/Packages/PythonSoftwareFoundation.Python.3.10_qbz5n2kfra8p0/LocalCache/local-packages/Python310/site-packages/pandas/util/_exceptions.py?line=30'>31</a>\u001b[0m \u001b[39m    \"\"\"\u001b[39;00m\n\u001b[1;32m---> <a href='file:///c%3A/Users/kasho/AppData/Local/Packages/PythonSoftwareFoundation.Python.3.10_qbz5n2kfra8p0/LocalCache/local-packages/Python310/site-packages/pandas/util/_exceptions.py?line=31'>32</a>\u001b[0m     stack \u001b[39m=\u001b[39m inspect\u001b[39m.\u001b[39;49mstack()\n\u001b[0;32m     <a href='file:///c%3A/Users/kasho/AppData/Local/Packages/PythonSoftwareFoundation.Python.3.10_qbz5n2kfra8p0/LocalCache/local-packages/Python310/site-packages/pandas/util/_exceptions.py?line=33'>34</a>\u001b[0m     \u001b[39mimport\u001b[39;00m \u001b[39mpandas\u001b[39;00m \u001b[39mas\u001b[39;00m \u001b[39mpd\u001b[39;00m\n\u001b[0;32m     <a href='file:///c%3A/Users/kasho/AppData/Local/Packages/PythonSoftwareFoundation.Python.3.10_qbz5n2kfra8p0/LocalCache/local-packages/Python310/site-packages/pandas/util/_exceptions.py?line=35'>36</a>\u001b[0m     pkg_dir \u001b[39m=\u001b[39m os\u001b[39m.\u001b[39mpath\u001b[39m.\u001b[39mdirname(pd\u001b[39m.\u001b[39m\u001b[39m__file__\u001b[39m)\n",
      "File \u001b[1;32mC:\\Program Files\\WindowsApps\\PythonSoftwareFoundation.Python.3.10_3.10.1264.0_x64__qbz5n2kfra8p0\\lib\\inspect.py:1678\u001b[0m, in \u001b[0;36mstack\u001b[1;34m(context)\u001b[0m\n\u001b[0;32m   <a href='file:///c%3A/Program%20Files/WindowsApps/PythonSoftwareFoundation.Python.3.10_3.10.1264.0_x64__qbz5n2kfra8p0/lib/inspect.py?line=1675'>1676</a>\u001b[0m \u001b[39mdef\u001b[39;00m \u001b[39mstack\u001b[39m(context\u001b[39m=\u001b[39m\u001b[39m1\u001b[39m):\n\u001b[0;32m   <a href='file:///c%3A/Program%20Files/WindowsApps/PythonSoftwareFoundation.Python.3.10_3.10.1264.0_x64__qbz5n2kfra8p0/lib/inspect.py?line=1676'>1677</a>\u001b[0m     \u001b[39m\"\"\"Return a list of records for the stack above the caller's frame.\"\"\"\u001b[39;00m\n\u001b[1;32m-> <a href='file:///c%3A/Program%20Files/WindowsApps/PythonSoftwareFoundation.Python.3.10_3.10.1264.0_x64__qbz5n2kfra8p0/lib/inspect.py?line=1677'>1678</a>\u001b[0m     \u001b[39mreturn\u001b[39;00m getouterframes(sys\u001b[39m.\u001b[39;49m_getframe(\u001b[39m1\u001b[39;49m), context)\n",
      "File \u001b[1;32mC:\\Program Files\\WindowsApps\\PythonSoftwareFoundation.Python.3.10_3.10.1264.0_x64__qbz5n2kfra8p0\\lib\\inspect.py:1655\u001b[0m, in \u001b[0;36mgetouterframes\u001b[1;34m(frame, context)\u001b[0m\n\u001b[0;32m   <a href='file:///c%3A/Program%20Files/WindowsApps/PythonSoftwareFoundation.Python.3.10_3.10.1264.0_x64__qbz5n2kfra8p0/lib/inspect.py?line=1652'>1653</a>\u001b[0m framelist \u001b[39m=\u001b[39m []\n\u001b[0;32m   <a href='file:///c%3A/Program%20Files/WindowsApps/PythonSoftwareFoundation.Python.3.10_3.10.1264.0_x64__qbz5n2kfra8p0/lib/inspect.py?line=1653'>1654</a>\u001b[0m \u001b[39mwhile\u001b[39;00m frame:\n\u001b[1;32m-> <a href='file:///c%3A/Program%20Files/WindowsApps/PythonSoftwareFoundation.Python.3.10_3.10.1264.0_x64__qbz5n2kfra8p0/lib/inspect.py?line=1654'>1655</a>\u001b[0m     frameinfo \u001b[39m=\u001b[39m (frame,) \u001b[39m+\u001b[39m getframeinfo(frame, context)\n\u001b[0;32m   <a href='file:///c%3A/Program%20Files/WindowsApps/PythonSoftwareFoundation.Python.3.10_3.10.1264.0_x64__qbz5n2kfra8p0/lib/inspect.py?line=1655'>1656</a>\u001b[0m     framelist\u001b[39m.\u001b[39mappend(FrameInfo(\u001b[39m*\u001b[39mframeinfo))\n\u001b[0;32m   <a href='file:///c%3A/Program%20Files/WindowsApps/PythonSoftwareFoundation.Python.3.10_3.10.1264.0_x64__qbz5n2kfra8p0/lib/inspect.py?line=1656'>1657</a>\u001b[0m     frame \u001b[39m=\u001b[39m frame\u001b[39m.\u001b[39mf_back\n",
      "File \u001b[1;32mC:\\Program Files\\WindowsApps\\PythonSoftwareFoundation.Python.3.10_3.10.1264.0_x64__qbz5n2kfra8p0\\lib\\inspect.py:1625\u001b[0m, in \u001b[0;36mgetframeinfo\u001b[1;34m(frame, context)\u001b[0m\n\u001b[0;32m   <a href='file:///c%3A/Program%20Files/WindowsApps/PythonSoftwareFoundation.Python.3.10_3.10.1264.0_x64__qbz5n2kfra8p0/lib/inspect.py?line=1621'>1622</a>\u001b[0m \u001b[39mif\u001b[39;00m \u001b[39mnot\u001b[39;00m isframe(frame):\n\u001b[0;32m   <a href='file:///c%3A/Program%20Files/WindowsApps/PythonSoftwareFoundation.Python.3.10_3.10.1264.0_x64__qbz5n2kfra8p0/lib/inspect.py?line=1622'>1623</a>\u001b[0m     \u001b[39mraise\u001b[39;00m \u001b[39mTypeError\u001b[39;00m(\u001b[39m'\u001b[39m\u001b[39m{!r}\u001b[39;00m\u001b[39m is not a frame or traceback object\u001b[39m\u001b[39m'\u001b[39m\u001b[39m.\u001b[39mformat(frame))\n\u001b[1;32m-> <a href='file:///c%3A/Program%20Files/WindowsApps/PythonSoftwareFoundation.Python.3.10_3.10.1264.0_x64__qbz5n2kfra8p0/lib/inspect.py?line=1624'>1625</a>\u001b[0m filename \u001b[39m=\u001b[39m getsourcefile(frame) \u001b[39mor\u001b[39;00m getfile(frame)\n\u001b[0;32m   <a href='file:///c%3A/Program%20Files/WindowsApps/PythonSoftwareFoundation.Python.3.10_3.10.1264.0_x64__qbz5n2kfra8p0/lib/inspect.py?line=1625'>1626</a>\u001b[0m \u001b[39mif\u001b[39;00m context \u001b[39m>\u001b[39m \u001b[39m0\u001b[39m:\n\u001b[0;32m   <a href='file:///c%3A/Program%20Files/WindowsApps/PythonSoftwareFoundation.Python.3.10_3.10.1264.0_x64__qbz5n2kfra8p0/lib/inspect.py?line=1626'>1627</a>\u001b[0m     start \u001b[39m=\u001b[39m lineno \u001b[39m-\u001b[39m \u001b[39m1\u001b[39m \u001b[39m-\u001b[39m context\u001b[39m/\u001b[39m\u001b[39m/\u001b[39m\u001b[39m2\u001b[39m\n",
      "File \u001b[1;32mC:\\Program Files\\WindowsApps\\PythonSoftwareFoundation.Python.3.10_3.10.1264.0_x64__qbz5n2kfra8p0\\lib\\inspect.py:826\u001b[0m, in \u001b[0;36mgetsourcefile\u001b[1;34m(object)\u001b[0m\n\u001b[0;32m    <a href='file:///c%3A/Program%20Files/WindowsApps/PythonSoftwareFoundation.Python.3.10_3.10.1264.0_x64__qbz5n2kfra8p0/lib/inspect.py?line=822'>823</a>\u001b[0m \u001b[39melif\u001b[39;00m \u001b[39many\u001b[39m(filename\u001b[39m.\u001b[39mendswith(s) \u001b[39mfor\u001b[39;00m s \u001b[39min\u001b[39;00m\n\u001b[0;32m    <a href='file:///c%3A/Program%20Files/WindowsApps/PythonSoftwareFoundation.Python.3.10_3.10.1264.0_x64__qbz5n2kfra8p0/lib/inspect.py?line=823'>824</a>\u001b[0m              importlib\u001b[39m.\u001b[39mmachinery\u001b[39m.\u001b[39mEXTENSION_SUFFIXES):\n\u001b[0;32m    <a href='file:///c%3A/Program%20Files/WindowsApps/PythonSoftwareFoundation.Python.3.10_3.10.1264.0_x64__qbz5n2kfra8p0/lib/inspect.py?line=824'>825</a>\u001b[0m     \u001b[39mreturn\u001b[39;00m \u001b[39mNone\u001b[39;00m\n\u001b[1;32m--> <a href='file:///c%3A/Program%20Files/WindowsApps/PythonSoftwareFoundation.Python.3.10_3.10.1264.0_x64__qbz5n2kfra8p0/lib/inspect.py?line=825'>826</a>\u001b[0m \u001b[39mif\u001b[39;00m os\u001b[39m.\u001b[39;49mpath\u001b[39m.\u001b[39;49mexists(filename):\n\u001b[0;32m    <a href='file:///c%3A/Program%20Files/WindowsApps/PythonSoftwareFoundation.Python.3.10_3.10.1264.0_x64__qbz5n2kfra8p0/lib/inspect.py?line=826'>827</a>\u001b[0m     \u001b[39mreturn\u001b[39;00m filename\n\u001b[0;32m    <a href='file:///c%3A/Program%20Files/WindowsApps/PythonSoftwareFoundation.Python.3.10_3.10.1264.0_x64__qbz5n2kfra8p0/lib/inspect.py?line=827'>828</a>\u001b[0m \u001b[39m# only return a non-existent filename if the module has a PEP 302 loader\u001b[39;00m\n",
      "File \u001b[1;32mC:\\Program Files\\WindowsApps\\PythonSoftwareFoundation.Python.3.10_3.10.1264.0_x64__qbz5n2kfra8p0\\lib\\genericpath.py:19\u001b[0m, in \u001b[0;36mexists\u001b[1;34m(path)\u001b[0m\n\u001b[0;32m     <a href='file:///c%3A/Program%20Files/WindowsApps/PythonSoftwareFoundation.Python.3.10_3.10.1264.0_x64__qbz5n2kfra8p0/lib/genericpath.py?line=16'>17</a>\u001b[0m \u001b[39m\"\"\"Test whether a path exists.  Returns False for broken symbolic links\"\"\"\u001b[39;00m\n\u001b[0;32m     <a href='file:///c%3A/Program%20Files/WindowsApps/PythonSoftwareFoundation.Python.3.10_3.10.1264.0_x64__qbz5n2kfra8p0/lib/genericpath.py?line=17'>18</a>\u001b[0m \u001b[39mtry\u001b[39;00m:\n\u001b[1;32m---> <a href='file:///c%3A/Program%20Files/WindowsApps/PythonSoftwareFoundation.Python.3.10_3.10.1264.0_x64__qbz5n2kfra8p0/lib/genericpath.py?line=18'>19</a>\u001b[0m     os\u001b[39m.\u001b[39;49mstat(path)\n\u001b[0;32m     <a href='file:///c%3A/Program%20Files/WindowsApps/PythonSoftwareFoundation.Python.3.10_3.10.1264.0_x64__qbz5n2kfra8p0/lib/genericpath.py?line=19'>20</a>\u001b[0m \u001b[39mexcept\u001b[39;00m (\u001b[39mOSError\u001b[39;00m, \u001b[39mValueError\u001b[39;00m):\n\u001b[0;32m     <a href='file:///c%3A/Program%20Files/WindowsApps/PythonSoftwareFoundation.Python.3.10_3.10.1264.0_x64__qbz5n2kfra8p0/lib/genericpath.py?line=20'>21</a>\u001b[0m     \u001b[39mreturn\u001b[39;00m \u001b[39mFalse\u001b[39;00m\n",
      "\u001b[1;31mKeyboardInterrupt\u001b[0m: "
     ]
    }
   ],
   "source": [
    "# Politics\n",
    "\n",
    "text = \"\"\"Disputes have already broken out within the new political alliance that is working to end 36 years of rule by the Socialist Party (PSOE) in Spain’s southern region of Andalusia.\n",
    "\n",
    "Just hours after the far-right Vox agreed to support the Popular Party (PP)’s candidate to head the region, Juan Manuel Moreno, its demand for a specific regional department for family affairs is running into opposition from Ciudadanos (Citizens), the third party involved in the government change.\n",
    "\n",
    "These early clashes suggest it could be difficult to export the model to other parts of Spain\n",
    "\n",
    "The PP and the liberal Ciudadanos have reached their own governing agreement in the wake of an election that undermined the Socialists’ hold on power, but they need support from Vox’s 12 newly elected lawmakers to make it a reality.\n",
    "\n",
    "Ciudadanos has refused point-blank to meet with Vox representatives, but the PP has struck its own parallel deal with the far right to ensure its support at the investiture debate, which will take place on January 15 and 16.\n",
    "\n",
    "On Friday morning, Juan Marín of Ciudadanos said that there are no plans for a separate family affairs department within the government structure they have devised with their PP partners, and which does not include Vox.\n",
    "\n",
    "The reform party has insisted that the Vox-PP deal does not affect them at all, and Ciudadanos’ national leader, Albert Rivera, said on Thursday that Vox “has had to take a step back, correct itself, and sheathe its sword,” alluding to the fact that Vox has dropped some of its most radical demands such as the deportation of 52,000 undocumented migrants.\n",
    "\n",
    " Vox national leader Santiago Abascal (c) and Andalusian leader Francisco Serrano (r).\n",
    "Vox national leader Santiago Abascal (c) and Andalusian leader Francisco Serrano (r). REUTERS\n",
    "But Vox insists on a family department, and said it will expect loyalty from the PP on this issue. Meanwhile, Ciudadanos has also warned it will not support the PP-Vox proposal to change the historical memory law for a “concord law.”\n",
    "\n",
    "These early clashes suggest it could be difficult to export the model to other parts of Spain, where local and regional elections are scheduled to be held this year. The PP president, Pablo Casado, said on Thursday that their separate deals with Ciudadanos and Vox in Andalusia are “a preamble of what’s going to happen in May in Spain.”\n",
    "\n",
    "The PP is anxious to win back power in regions like Valencia, the Balearic Islands, Castilla-La Mancha, Aragón and Cantabria, and to retain it in Madrid, Murcia, La Rioja and Castilla y León.\n",
    "\n",
    "Parliamentary debate\n",
    "The PSOE has already digested the fact that it is losing its hold on Spain’s most populated region. “We will conduct a responsible opposition, and remain vigilant about defending self-government and Andalusia’s presence in Spain,” said the party’s parliamentary spokesman, Mario Jiménez.\n",
    "\n",
    "The Socialists will not be putting forward a candidate, now that the PP nominee has enough support for an absolute majority in the first round. The debates will take place on January 15 and 16, followed by a vote, said Speaker Marta Bosquet.\n",
    "\n",
    "The sum of the PP, Ciudadanos and Vox votes is four above the 55 required for a majority. The PSOE lost 14 seats at the December 2 election, down to 33. The Podemos-backed Adelante Andalucía has 17 lawmakers.\n",
    "\n",
    "\"\"\"\n",
    "\n",
    "predict_from_text(text)"
   ]
  },
  {
   "cell_type": "code",
   "execution_count": null,
   "metadata": {},
   "outputs": [
    {
     "name": "stderr",
     "output_type": "stream",
     "text": [
      "C:\\Users\\kasho\\AppData\\Local\\Temp\\ipykernel_20916\\199367840.py:17: FutureWarning: The default value of regex will change from True to False in a future version. In addition, single character regular expressions will *not* be treated as literal strings when regex=True.\n",
      "  df['Content_Parsed_3'] = df['Content_Parsed_3'].str.replace(punct_sign, '')\n",
      "C:\\Users\\kasho\\AppData\\Local\\Temp\\ipykernel_20916\\199367840.py:31: FutureWarning: The default value of regex will change from True to False in a future version.\n",
      "  df['Content_Parsed_6'] = df['Content_Parsed_6'].str.replace(regex_stopword, '')\n",
      "C:\\Users\\kasho\\AppData\\Local\\Temp\\ipykernel_20916\\199367840.py:17: FutureWarning: The default value of regex will change from True to False in a future version. In addition, single character regular expressions will *not* be treated as literal strings when regex=True.\n",
      "  df['Content_Parsed_3'] = df['Content_Parsed_3'].str.replace(punct_sign, '')\n",
      "C:\\Users\\kasho\\AppData\\Local\\Temp\\ipykernel_20916\\199367840.py:31: FutureWarning: The default value of regex will change from True to False in a future version.\n",
      "  df['Content_Parsed_6'] = df['Content_Parsed_6'].str.replace(regex_stopword, '')\n"
     ]
    },
    {
     "name": "stdout",
     "output_type": "stream",
     "text": [
      "The predicted category using the SVM model is entertainment.\n",
      "The conditional probability is: 99.31167341445837\n"
     ]
    }
   ],
   "source": [
    "# Entertainment\n",
    "\n",
    "text = \"\"\"\n",
    "Cádiz is in style: it has just been included in The New York Times’ list of 52 Places to Go in 2019. The recognition comes on the back of acknowledgment from TripAdvisor, which last year ranked Cádiz eighth on its list of European Destinations On The Rise for 2018.\n",
    "\n",
    "The journalist Andrew Ferren, who wrote about Cádiz for The New York Times’ list, lives in Spain himself and is no stranger to the southern province’s charms. “I am fascinated by its mix of atmospheres,” he says. “You leap from places as sophisticated and cultured as Jerez de la Frontera to wild landscapes that take your breath away, such as the beach in Bolonia or Alcornocales Park. It’s like the Wild West of southern of Spain.”\n",
    "\n",
    "“Despite the fact that Cádiz was historically a major maritime link between America and Europe, it’s not very well known to the US public and it’s really worth a visit,” he adds. There are three main reasons why The New York Times recommends a trip to Cádiz:\n",
    "\n",
    "Culinary delights\n",
    " Aponiente restaurant in El Puerto de Santa María.\n",
    "Aponiente restaurant in El Puerto de Santa María.\n",
    "Suggestions include the new Western-style gastrobar Saja River, recently opened on Santa Elena street, and Código de Barra in La Candelaria Square. Ferren also suggests crossing the bay from the capital to Puerto de Santa María, where Angel León has his three-starred Michelin restaurant offering “a lyrical poem of seafood.” Just 40 km from here, León has another restaurant within the Meliá Sancti Petri hotel called Alevante, which has just been awarded its first Michelin star. For something more casual, there is La Taberna del Chef del Mar, another of the chef’s brands in El Puerto.\n",
    "\n",
    "To these suggestions, EL VIAJERO adds several of its own, including Restaurante Café Royalty, which opened opened in 1912, and the bookshop café La Clandestina (José del Toro, 23), which serves scrumptious breakfasts. There is also La Candela (Feduchy, 13) for tapas, while an exquisite combo of Andalusian and Norwegian fare is served at Patría restaurant, located on the hillside of Muela in Vejer de la Frontera.\n",
    "\n",
    "Jerez de la Frontera and its wineries\n",
    " Bodegas Lustau, en Jerez de la Frontera (Cádiz).ampliar foto\n",
    "Bodegas Lustau, en Jerez de la Frontera (Cádiz). NEIL FARRIN GETTY IMAGES\n",
    "Around 36 km to the north of Cádiz lies Jerez de la Frontera, known for the fortified wines known in English as sherry. Wineries from the region known as Marco de Jerez (comprising Jerez proper, El Puerto and Sanlúcar) preserve their unique 18th and 19th-century atmosphere. Ferren recommends Díez-Mérito, Lustau and Bodegas Tradición. Foodies are told to seek out Lú in Jerez, owned by the chef JuanLu Fernández\n",
    "\n",
    "The NMAC Montenmedio Foundation\n",
    " Vejer de la Frontera.ampliar foto\n",
    "Vejer de la Frontera. GETTY IMAGES\n",
    "The NMAC Montenmedio Foundation of contemporary art sits between Barbate and Vejer de la Frontera. It is a private gallery exhibiting works by artists who are asked to come up with projects inspired by the local history and landscape. The center has work by Olafur Eliasson, James Turrell, Marina Abramovic, Pascale Marthine Tayou, Maurizio Cattelan and Santiago Sierra.\n",
    "\n",
    "EL VIAJERO expands on Ferren’s recommendations with a few of its own:\n",
    "\n",
    "1.The Cádiz Carnival\n",
    " The Cádiz carnival.ampliar foto\n",
    "The Cádiz carnival.\n",
    "An unique and fun festival that takes place from February 28 to March 10. In fact it is so unique that it is applying to be included on the World Intangible Cultural Heritage list.\n",
    "\n",
    "2. Barrio del Pópulo\n",
    " The Pópulo neighborhood.ampliar foto\n",
    "The Pópulo neighborhood. RAQUEL M. CARBONELL GETTY\n",
    "This is the oldest neighborhood in Cádiz and features an old Roman theater, the old cathedral and stone arches that lead to bohemian bars such as Pay Pay (Silencio, 1), a former brothel that now has live music, dance, improv and stand-up comedy.\n",
    "\n",
    "3. Cádiz à la Havana\n",
    " Cathedral square in Cádiz.ampliar foto\n",
    "Cathedral square in Cádiz. RAQUEL M. CARBONELL GETTY\n",
    "Stroll from the colonial-style Mina Square, with its ficus and palm trees, to the Provincial Museum containing Phoenician sarcophagi, to Campo del Sur avenue which was converted into a Havana esplanade for the 2002 James Bond movie Die Another Day.\n",
    "\n",
    "4. A wealth of history\n",
    " Baelo Claudia Roman site in Tarifa (Cádiz).ampliar foto\n",
    "Baelo Claudia Roman site in Tarifa (Cádiz). KEN WELSH GETTY\n",
    "Standing on the frontier between two continents, the province of Cádiz has a long and action-packed history, while its capital is one of the oldest cities in Europe. Remnants of yesteryear can be seen at a number of archeological sites, including Baelo Claudia, Carteia and Doña Blanca.\n",
    "\n",
    "5. Sanlúcar de Barrameda\n",
    " Summer beach horse races in Sanlúcar de Barrameda.ampliar foto\n",
    "Summer beach horse races in Sanlúcar de Barrameda. JUAN CARLOS TORO\n",
    "Famous for its summer horse racing on the beach as well as for its wineries, this coastal town has been described by journalist Mariló García as a “dazzling city in Cádiz that boasts history, exquisite seafood, a city center with a mix of palaces and wineries as well as the incomparable landscape of Doñana Natural Park.”\n",
    "\n",
    "6. Coast and mountains\n",
    " Olvera, a white village in Cádiz.ampliar foto\n",
    "Olvera, a white village in Cádiz. RUDI SEBASTIAN GETTY\n",
    "Cádiz has miles of windswept beaches that make it a perfect haunt for surfers of various descriptions. In less than an hour, however, you can be in the hills visiting quintessentially Andalusian white villages such as Medina Sidonia, Grazalema and Ubrique.\n",
    "\n",
    "7. The flamenco route\n",
    "Located in San Fernando, the Peña Flamenca Camarón de la Isla, named after the famous singer, has shows every week and is a good place to tune into some authentic flamenco artistry.\n",
    "\n",
    "8. Conil de la Frontera\n",
    " The beach in Conil de la Frontera.ampliar foto\n",
    "The beach in Conil de la Frontera. GETTY IMAGES\n",
    "There are three national parks that stretch along Cádiz’s Atlantic coast – La Breña, Los Alcornocales and el Estrecho – as well as beaches such as Conil de la Frontera which has the best beach bars around for watching the sun go down.\n",
    "\n",
    "9. Surfing in Tarifa\n",
    "In the inlets of Los Lances and Valdevaqueros in Tarifa, wind and kitesurfers can skid across the water with a view of Africa in front and El Estrecho national park behind them.\n",
    "\n",
    "10. The white villages\n",
    "Nineteen districts in the Cádiz mountains take you through a string of white villages – Alcalá del Valle, Algar, Algodonales, Arcos de la Frontera, Benaocaz, Bornos, El Bosque, Espera, El Gastor, Grazalema, Olvera, Prado del Rey, Puerto Serrano, Setenil de las Bodegas, Torre Alhaquine, Ubrique, Villaluenga del Rosario, Villamartín and Zahara de la Sierra. The villagers still whitewash their homes with lime as they did in the past, normally once a year before the local fiestas.\n",
    "\n",
    "\"\"\"\n",
    "\n",
    "##predict_from_text(text)"
   ]
  },
  {
   "cell_type": "code",
   "execution_count": null,
   "metadata": {},
   "outputs": [
    {
     "name": "stderr",
     "output_type": "stream",
     "text": [
      "C:\\Users\\kasho\\AppData\\Local\\Temp\\ipykernel_20916\\199367840.py:17: FutureWarning: The default value of regex will change from True to False in a future version. In addition, single character regular expressions will *not* be treated as literal strings when regex=True.\n",
      "  df['Content_Parsed_3'] = df['Content_Parsed_3'].str.replace(punct_sign, '')\n",
      "C:\\Users\\kasho\\AppData\\Local\\Temp\\ipykernel_20916\\199367840.py:31: FutureWarning: The default value of regex will change from True to False in a future version.\n",
      "  df['Content_Parsed_6'] = df['Content_Parsed_6'].str.replace(regex_stopword, '')\n",
      "C:\\Users\\kasho\\AppData\\Local\\Temp\\ipykernel_20916\\199367840.py:17: FutureWarning: The default value of regex will change from True to False in a future version. In addition, single character regular expressions will *not* be treated as literal strings when regex=True.\n",
      "  df['Content_Parsed_3'] = df['Content_Parsed_3'].str.replace(punct_sign, '')\n",
      "C:\\Users\\kasho\\AppData\\Local\\Temp\\ipykernel_20916\\199367840.py:31: FutureWarning: The default value of regex will change from True to False in a future version.\n",
      "  df['Content_Parsed_6'] = df['Content_Parsed_6'].str.replace(regex_stopword, '')\n"
     ]
    },
    {
     "name": "stdout",
     "output_type": "stream",
     "text": [
      "The predicted category using the SVM model is business.\n",
      "The conditional probability is: 93.06008520653471\n"
     ]
    }
   ],
   "source": [
    "# Business\n",
    "\n",
    "text = \"\"\"\n",
    "Vodafone España has informed representatives of its employees that it is putting a collective dismissal plan into action that will affect a maximum of 1,200 workers, 24% of its total workforce in Spain of 5,000 people. The layoffs, news of which was broken by EL PAÍS in November, have been justified by the telecoms giant due to the obligation to reduce costs due to a fall in earnings caused by a continuous reduction of prices.\n",
    "\n",
    "“In the current market climate, demand for services continues to grow exponentially, but this is not the case with prices,” the company stated in a press release. “Nearly 50% of net new customers are associated with low- or medium-cost offers, something that obliges Vodafone to have a cost structure that is prepared to successfully compete in all segments.”\n",
    "\n",
    "Vodafone added that the current expectations of clients, “who demand an agile, simple and immediate relationship [with their operator],” is prompting the firm to seek “a more simplified organizational model that strengthens coordination and synergies between teams.”\n",
    "\n",
    "As such, the company continued, it is looking to “reverse the negative trend of the business, strengthen sustainability, protect our capacity to invest and design a more competitive organization that adapts better to what our customers are asking for.”\n",
    "\n",
    "The operator says that it is sure it can reach a deal with labor unions so that the measures are as painless as possible. The redundancies will likely take effect at the end of February or the beginning of March.\n",
    "\n",
    "Vodafone has suffered a great deal in the trade war that was sparked by its rivals Movistar and Orange, after the company opted not to buy the rights for Champions League or La Liga soccer matches on the basis of low returns. The strategy has prompted an exodus of clients from their broadband internet, mobile and pay-TV services.\n",
    "\n",
    "In the first three quarters of 2018, Vodafone has lost 361,000 cellphone lines (70,000 of which were contracts), 134,000 broadband customers, and 108,000 pay-TV subscriptions. The operator has only seen positive numbers in fiber optic internet, where it has put on 84,000 customers.\n",
    "\n",
    "The operator executed a similar collective dismissal plan (known in Spanish as an ERE) in 2015, reaching a deal with the main labor unions UGT and STC, and which meant the firing of 1,509 workers – 238 fewer than those initially proposed by the company. Vodafone justified those sackings based on the duplication of roles caused by the purchase of rival operator ONO in 2014, and the absorption of the company’s workforce.\n",
    "\n",
    "Before the acquisition of ONO, Vodafone also executed an ERE in 2013. On that occasion, the company agreed with unions on the firing of 620 employees, the externalization of services, which affected 130 workers, and changes in the conditions of another 150 people.\n",
    "\n",
    "\"\"\"\n",
    "\n",
    "##predict_from_text(text)"
   ]
  },
  {
   "cell_type": "code",
   "execution_count": null,
   "metadata": {},
   "outputs": [
    {
     "name": "stderr",
     "output_type": "stream",
     "text": [
      "C:\\Users\\kasho\\AppData\\Local\\Temp\\ipykernel_20916\\199367840.py:17: FutureWarning: The default value of regex will change from True to False in a future version. In addition, single character regular expressions will *not* be treated as literal strings when regex=True.\n",
      "  df['Content_Parsed_3'] = df['Content_Parsed_3'].str.replace(punct_sign, '')\n",
      "C:\\Users\\kasho\\AppData\\Local\\Temp\\ipykernel_20916\\199367840.py:31: FutureWarning: The default value of regex will change from True to False in a future version.\n",
      "  df['Content_Parsed_6'] = df['Content_Parsed_6'].str.replace(regex_stopword, '')\n",
      "C:\\Users\\kasho\\AppData\\Local\\Temp\\ipykernel_20916\\199367840.py:17: FutureWarning: The default value of regex will change from True to False in a future version. In addition, single character regular expressions will *not* be treated as literal strings when regex=True.\n",
      "  df['Content_Parsed_3'] = df['Content_Parsed_3'].str.replace(punct_sign, '')\n",
      "C:\\Users\\kasho\\AppData\\Local\\Temp\\ipykernel_20916\\199367840.py:31: FutureWarning: The default value of regex will change from True to False in a future version.\n",
      "  df['Content_Parsed_6'] = df['Content_Parsed_6'].str.replace(regex_stopword, '')\n"
     ]
    },
    {
     "name": "stdout",
     "output_type": "stream",
     "text": [
      "The predicted category using the SVM model is sport.\n",
      "The conditional probability is: 99.99481541686029\n"
     ]
    }
   ],
   "source": [
    "# Tech\n",
    "\n",
    "text = \"\"\"\n",
    "Former world number one Naomi Osaka is prepared to boycott Wimbledon over the decision to strip the Grand Slam tournament of ranking points, admitting: “I’m leaning towards not playing”.\n",
    "“I would say the decision is kind of affecting my mentality going into grass, like I’m not 100% sure if I’m going to go there,” said Osaka after her 7-5, 6-4 loss to Amanda Anisimova in the French Open first round on Monday.\n",
    "The ATP and WTA tours last week removed ranking points from Wimbledon after the All England Club banned Russian and Belarusian players in response to Russia’s conflict with Ukraine.\n",
    "“I’m leaning more towards not playing given the current circumstances.\n",
    " I’m the type of player that gets motivated by seeing my ranking go up,” added the four-time major winner.\n",
    "“The intention of this measure was good, but the execution is all over the place.\n",
    " I’m sure there will be a bit of back and forth with the whole point situation.\n",
    " Then I guess I’ll make my decision.\n",
    "”“I feel like if I play Wimbledon without points, it’s more like an exhibition,” added Osaka, who has never got beyond the third round at the All England Club.\n",
    "Wimbledon chiefs branded the move by the two tours, which threatens to reduce the sport’s most prestigious tennis tournament to the status of an exhibition event, as “disproportionate”.\n",
    "Defending champion Novak Djokovic would lose 2,000 points and his world number one spot as a result.\n",
    "World number one Iga Swiatek, who wore a ribbon in the colours of Ukraine for her first round win on Monday, said she was happy to still play Wimbledon, with or without points.\n",
    "“I’m okay with playing without points.\n",
    " It’s Wimbledon.\n",
    " It’s one of the most important tournaments in the season,” said Swiatek.\n",
    "“But it would be nice if the people who are making decisions were making decisions that are going to stop Russia’s aggression.\n",
    "”The Wimbledon ban will rule out the likes of US Open champion and second-ranked Daniil Medvedev as well as former world number one and two-time Australian Open winner Victoria Azarenka.\n",
    "Belarusian Azarenka, a Wimbledon semi-finalist in 2011 and 2012, sits on the WTA’s powerful player council.\n",
    "However, she refused to dive into the player ban or ranking points issue which threatens to overshadow the build-up to Wimbledon which starts on June 27.\n",
    "“I think as many players there is going to be in the draw, as many opinions there will be,” said the 32-year-old when asked if players will boycott the tournament.\n",
    "“From my experience on the tour, people say a lot of things, they do different.\n",
    " So I’m not going to take anybody’s word for it, and we will see what happens.\n",
    "”Rafael Nadal, the champion at Wimbledon in 2008 and 2010, said he wished for a speedy conclusion to the impasse.\n",
    "“I respect and understand the Wimbledon position; I understand and respect too that the ATP is protecting their members,” said the 21-time Grand Slam title winner.\n",
    "“Hopefully ATP and Wimbledon can be together and sit together and negotiate a better future for both sides.\n",
    " The ATP board made a decision.\n",
    " We need to accept that decision.\n",
    "”TennisAlcaraz, who beat Nadal and Djokovic in the previous round, is the youngest player since 1990 to defeat three top-five players at the same eventTennis2 weeks agoTennisThe Tunisian became a top contender for the French Open after her victory over American Jessica Pegula at the Madrid Open final Tennis2 weeks agoTennisThe 19-year-old moved to an impressive 27-3 match record for the current seasonTennis2 weeks agoTennisJabeur beat American Jessica Pegula in the final, becoming the first Arab player to win a WTA 1000 titleTennis2 weeks agoTennisA win on Sunday will give Alcaraz his fourth title this season, the most for any playerTennis2 weeks agoTennisIn an eventful quarterfinal, the 19-year-old Alcaraz defeated his idol 6-2, 1-6, 6-3Tennis2 weeks agoTennisJabeur beat Ekaterina Alexandrova 6-2, 6-3 in the Madrid Open semifinal Tennis2 weeks agoTennisNadal now awaits the winner of the clash between Belgian qualifier David Goffin and Dutchman Botic van de ZandschulpTennis2 weeks ago.\n",
    "\"\"\"\n",
    "\n",
    "##predict_from_text(text)"
   ]
  },
  {
   "cell_type": "code",
   "execution_count": null,
   "metadata": {},
   "outputs": [
    {
     "name": "stderr",
     "output_type": "stream",
     "text": [
      "C:\\Users\\kasho\\AppData\\Local\\Temp\\ipykernel_20916\\199367840.py:17: FutureWarning: The default value of regex will change from True to False in a future version. In addition, single character regular expressions will *not* be treated as literal strings when regex=True.\n",
      "  df['Content_Parsed_3'] = df['Content_Parsed_3'].str.replace(punct_sign, '')\n",
      "C:\\Users\\kasho\\AppData\\Local\\Temp\\ipykernel_20916\\199367840.py:31: FutureWarning: The default value of regex will change from True to False in a future version.\n",
      "  df['Content_Parsed_6'] = df['Content_Parsed_6'].str.replace(regex_stopword, '')\n",
      "C:\\Users\\kasho\\AppData\\Local\\Temp\\ipykernel_20916\\199367840.py:17: FutureWarning: The default value of regex will change from True to False in a future version. In addition, single character regular expressions will *not* be treated as literal strings when regex=True.\n",
      "  df['Content_Parsed_3'] = df['Content_Parsed_3'].str.replace(punct_sign, '')\n",
      "C:\\Users\\kasho\\AppData\\Local\\Temp\\ipykernel_20916\\199367840.py:31: FutureWarning: The default value of regex will change from True to False in a future version.\n",
      "  df['Content_Parsed_6'] = df['Content_Parsed_6'].str.replace(regex_stopword, '')\n"
     ]
    },
    {
     "name": "stdout",
     "output_type": "stream",
     "text": [
      "The predicted category using the SVM model is sport.\n",
      "The conditional probability is: 31.225982153213515\n"
     ]
    }
   ],
   "source": [
    "# Sports\n",
    "\n",
    "text = \"\"\"\n",
    "Spain has agreed to host the soccer final of the Copa Libertadores between Argentina teams River Plate and Boca Juniors. The match will take place on December 9 at the Santiago Bernabéu stadium in Madrid.\n",
    "\n",
    "The final in Madrid is a punch in the soul to all fans of soccer in Argentina\n",
    "\n",
    "ONLINE SPORTS DAILY OLE\n",
    "\n",
    "The final was set to take place in Argentina but was suspended twice after fans turned violent. The first time, on November 25, riot police were called in after supporters of River began throwing stones and bottles at the bus carrying Boca players. Pepper spray used to control the crowds ended up affecting members of the soccer team. The players later shared photos of their injuries. The match was rescheduled but again had to be suspended after fans descended into violence.\n",
    "\n",
    "In view of the insecurity, the South American Football Confederation (Conmebol), which organizes the competition, decided the only solution was to hold the game in a different country. On Thursday, Spanish Prime Minister Pedro Sánchez said Spain would be “willing to organize the Copa Libertadores final between River and Boca” in a message on Twitter, and an hour later Conmebol president Alejandro Domínguez confirmed the game would take place in Madrid.\n",
    "\n",
    " Embedded video\n",
    "\n",
    "Sebastián Lisiecki\n",
    "@sebalisiecki\n",
    " Así fue la llegada de Boca al Monumental. Pésimo la seguridad q los mete entre toda la gente de River, los jugadores no tienen q hacer gestos, tienen q.jugar adentro. La Policía no controló y después tiró gas pimienta. Insólito todo. Quinto mundo\n",
    "\n",
    "575\n",
    "7:23 PM - Nov 24, 2018\n",
    "637 people are talking about this\n",
    "Twitter Ads info and privacy\n",
    "This was how Boca arrived at Monumental stadium. The security that got between the all people of River was terrible. Players shouldn't have to make gesture, they should play. The police did not control the situation and then pepper gas was thrown. Unbelievable. Fifth world.\n",
    "\n",
    "This is the first time a Copa Libertadores game has been played outside the Americas since the competition began in 1960. Domínguez however was positive about the decision: “[Madrid] has the largest Argentine community overseas, Barajas is the airport with the best connection to Latin America, and it is a city with a great soccer culture.”\n",
    "\n",
    "But the feeling in Argentina has been less optimistic. The national newspaper La Nación wrote that “it represents, in some way, the structural failure of our soccer, which is unable to organize the best final in the history of the [Copa] Libertadores.” Online sports daily Ole agreed: “The final in Madrid is a punch in the soul to all fans of soccer in Argentina. Ten thousands kilometers away, River-Boca is an unhappy attempt to transform the classic into a Champions League event.” According to a survey run by Ole, 76% of respondents think it is bad that the game has been moved to Spain.\n",
    "\n",
    "Security risk\n",
    "In a message on Twitter, Sánchez promised that \"security forces have extensive experience of these situations and are already working on the necessary deployments to ensure the event is secure.\" Despite these assurances, there are concerns there is not enough time to properly secure the event. According to sources familiar with the security operations, between four and six weeks are needed to analyze the security needs of high-risk sporting stadiums and the ensuing preparations can take up to eight months. In the case of the Copa Libertadores final, security officials will have just days to prepare.\n",
    "\n",
    "River and Boca have a long-standing rivalry fueled largely by the class divide between the teams – River attracts wealthy, upper-class supporters while Boca is known for its working-class fans.\n",
    "\n",
    "Scheduling issues\n",
    "The final will take place on Sunday, December 9, on the final day of a three-day national holiday in Spain for Constitution Day on December 6. Madrid receives its highest number of visitors in these dates. In 2017, 600,000 visitors came to the capital, and the hotel occupancy rate was over 80%.\n",
    "\n",
    " Conmebol president Alejandro Domínguez on Tuesday.\n",
    "Conmebol president Alejandro Domínguez on Tuesday.\n",
    "Many details about the game have yet to be revealed, including how tickets will be sold, what system will be used and who can buy tickets. In Argentina, fans of the visiting team are banned from the stadiums.\n",
    "\n",
    "Conmebol and soccer club representatives began considering destinations for the match on Tuesday including Doha, the capital of Qatar and the host of the 2022 FIFA World Cup, which offered attractive economic incentives and Miami, which was ruled out by the US Soccer Federation.\n",
    "\n",
    "\n",
    "\n",
    "\"\"\"\n",
    "\n",
    "##predict_from_text(text)"
   ]
  },
  {
   "cell_type": "markdown",
   "metadata": {},
   "source": [
    "We can see that in almost every case the highest conditional probability is higher than **90%**. In the sports article it falls down to 75%."
   ]
  },
  {
   "cell_type": "markdown",
   "metadata": {},
   "source": [
    "### Articles that don't belong to neither of the five categories"
   ]
  },
  {
   "cell_type": "code",
   "execution_count": null,
   "metadata": {},
   "outputs": [
    {
     "name": "stdout",
     "output_type": "stream",
     "text": [
      "The predicted category using the SVM model is business.\n",
      "The conditional probability is: 62.971865810590224\n"
     ]
    }
   ],
   "source": [
    "# Weather\n",
    "\n",
    "text = \"\"\"\n",
    "A polar air mass that entered the Iberian peninsula on Wednesday has already caused sharp drops in temperature, but the worst is yet to come, said the national weather service Aemet.\n",
    "\n",
    "“An episode of intense cold” is forecast for Friday, when the mercury will continue to plummet across much of Spain. Thirty provinces are on yellow alert, the lowest on a three-color scale, except for Guadalajara, where there is an orange advisory in place. Lows of -10 ºC are expected in Parameras de Molina.\n",
    "\n",
    "Elsewhere, weather stations have recorded -8.2ºC in La Molina (Girona), at an elevation of 1,700 meters, and -6.8ºC in Puerto de Navacerrada (Madrid).\n",
    "\n",
    " Almería has rolled out vehicles to deal with wintry road conditions.\n",
    "Almería has rolled out vehicles to deal with wintry road conditions. DIPUTACIÓN DE ALMERÍA EUROPA PRESS\n",
    "Aemet spokesman Rubén del Campo said that the cold spell is not out of the ordinary for a month of January, and noted that “we are emerging from a warm December when temperatures were 1.2ºC above average.”\n",
    "\n",
    "Temperatures have already dipped between six and eight degrees in a matter of hours in some parts of Spain, said Del Campo. And the northerly wind will increase the feeling of cold.\n",
    "\n",
    "Temperatures on Friday and Saturday will be “very cold, with lows of five to 10 degrees below average in many parts of northern and eastern Spain, and in the Balearics,” he added.\n",
    "\n",
    "No snow\n",
    "However, little to no snow is expected “not for lack of cold, but for lack of precipitation, since the air mass is very dry.”\n",
    "\n",
    "Alerts are in place in Almería, Granada, Jaén, Aragón, Cantabria, Castilla-La Mancha, Castilla y León except for Salamanca and Valladolid, Catalonia save for Tarragona, Madrid, Navarre, the Valencia region, the Balearic Islands, La Rioja, Asturias and Murcia.\n",
    "\n",
    "On Saturday, the orange warnings will extend to Córdoba, Salamanca, Valladolid, Galicia and Lleida, where lows of -10 ºC are expected in the Vall d’Aran.\n",
    "\n",
    "\n",
    "\"\"\"\n",
    "\n",
    "##predict_from_text(text)"
   ]
  },
  {
   "cell_type": "code",
   "execution_count": null,
   "metadata": {},
   "outputs": [
    {
     "name": "stdout",
     "output_type": "stream",
     "text": [
      "The predicted category using the SVM model is tech.\n",
      "The conditional probability is: 41.24897915335832\n"
     ]
    }
   ],
   "source": [
    "# Health\n",
    "\n",
    "text = \"\"\"\n",
    "The obesity epidemic has been on the rise for years, with cases nearly tripling since 1975, according to the World Health Organization (WHO). And the outlook for the future is equally bleak – and that includes Spain, a country that is famed for the positive effects of its supposedly Mediterranean diet.\n",
    "\n",
    "An investigation by the Mar de Barcelona hospital has found that 80% of men and 55% of women will be overweight by 2030. If the current trend continues, the researchers write, within 11 years more than 27 million people in Spain will be overweight.\n",
    "\n",
    "Being overweight can mean a higher risk of suffering a number of diseases, including diabetes, hypertension, stroke and cancer\n",
    "\n",
    "The study, published in the Spanish Cardiology Magazine, points out that this epidemic will mean costs of €3 billion for the country’s health system.\n",
    "\n",
    "The issue, the experts state, is not an esthetic one, but rather a question of health. Being overweight can mean a higher risk of suffering a number of diseases, including diabetes, hypertension, stroke, cancer and other cardiovascular conditions.\n",
    "\n",
    "Researchers at the Barcelona hospital revised all of the scientific literature published in Spain on epidemiology and the prevalence of obesity and excess weight between 1987 and 2014 in order to come up with an accurate picture of the state of the country’s residents. “We found the trends and we cross-referenced them with data covering the general population from the National Statistics Institute in order to estimate the figures of obesity and excess weight,” explains Álvaro Hernáez, the chief researcher on the project. The results revealed an “alarming future.”\n",
    "\n",
    "There are currently 25 million people with excess weight, three million more than a decade ago\n",
    "\n",
    "DR ALBERT GODAY, AUTHOR OF THE STUDY\n",
    "\n",
    "“There are currently 25 million people with excess weight, three million more than a decade ago,” explains Dr Albert Goday, another author of the study. “In a conservative scenario, if this trend continues, there will be another three million more – 16% more cases – by 2030.”\n",
    "\n",
    "“In men, excess weight is more usual up to the age of 50,” explains Goday. “From 50 onward, obesity rises among women. These are issues that are intrinsically linked to hormonal metabolism. From a certain age, it is harder for women to control their weight.”\n",
    "\n",
    "The experts argue that any weight loss, no matter how small, reduces the risk of contracting one of the associated illnesses. “We aren’t going to find the key to this or a vaccination overnight,” Goday adds. “But any minor intervention will help to reduce the risk. You might think that you have made a huge effort and have only lost four kilos when you need to lose many more, but you must bear in mind that those four kilos are already reducing the risk.”\n",
    "\n",
    "\"\"\"\n",
    "\n",
    "##predict_from_text(text)"
   ]
  },
  {
   "cell_type": "code",
   "execution_count": null,
   "metadata": {},
   "outputs": [
    {
     "name": "stdout",
     "output_type": "stream",
     "text": [
      "The predicted category using the SVM model is entertainment.\n",
      "The conditional probability is: 50.654659390319566\n"
     ]
    }
   ],
   "source": [
    "# Animal abuse\n",
    "\n",
    "text = \"\"\"\n",
    "Spain’s animal rights party PACMA posted a 38-second video on Twitter on Friday showing a man freeing a fox from a cage, before hunters immediately start shooting at it.\n",
    "\n",
    "“Hunters shut what appears to be a fox in a cage and let it out only to pepper it with bullets,” says the accompanying text. “Another ‘isolated case’ as the hunting lobby refers to it. Every week, a trickle of ‘isolated cases.’ In fact, they are dangerous psychopaths with a rifle and a license to carry arms.”\n",
    "\n",
    " Video insertado\n",
    "\n",
    "PACMA\n",
    "✔\n",
    "@PartidoPACMA\n",
    " Cazadores enjaulan a lo que parece ser un zorro y lo liberan solo para acribillarlo a tiros. Otro \"caso aislado\", de los que habla el lobby de la caza. Cada semana varios \"casos aislados\".\n",
    "\n",
    "En realidad, son peligrosos psicópatas con escopeta y permiso de amas. #YoNoDisparo\n",
    "\n",
    "4.188\n",
    "10:43 - 4 ene. 2019\n",
    "7.443 personas están hablando de esto\n",
    "Información y privacidad de Twitter Ads\n",
    "At the start of the video, a man teases the caged animal with a stick. When the cage door is opened, the animal makes a run for it, but is shot at by men armed with rifles who are waiting by the cage.\n",
    "\n",
    "The release of the video, which has had 255,000 views, coincided with the launch of PACMA’s campaign against the start of fox-hunting season in Galicia. “Fox-hunting season in Galicia has started: hunts that hide behind environmental excuses, championships in which the only reason to compete is to kill. The hunters will be entitled to pursue and kill thousands of foxes in the countryside,” states PACMA.\n",
    "\n",
    "As it notes on its website, PACMA is the only political group that opposes hunting, and it is currently demanding a nationwide ban. “No animal should die under fire,” say the group. “We will fight tirelessly until hunting becomes a crime.”\n",
    "\n",
    "No animal should die under fire. We will fight tirelessly until hunting becomes a crime\n",
    "\n",
    "PACMA\n",
    "\n",
    "The animal rights group is preparing a report to send to the regional government of Galicia against fox hunts. “We are working hard to make it the first Spanish region to assign resources to protecting foxes instead of killing them,” says a source at PACMA.\n",
    "\n",
    "Last month, a Spanish hunter who was filmed while he chased and tortured a fox was identified by the Civil Guard in the Spanish province of Huesca. The man, aged 35, is facing charges of crimes against wildlife.\n",
    "\n",
    "And in November, animal rights groups and political parties reacted with indignation over a viral video shot in Cáceres province of 12 hunting dogs falling off a cliff edge, followed by the deer they were attacking.\n",
    "\n",
    "\"\"\"\n",
    "\n",
    "##predict_from_text(text)"
   ]
  },
  {
   "cell_type": "markdown",
   "metadata": {},
   "source": [
    "In these cases, the highest probability is much lower, ranging from 40% to 63%."
   ]
  },
  {
   "cell_type": "markdown",
   "metadata": {},
   "source": [
    "### Threshold"
   ]
  },
  {
   "cell_type": "markdown",
   "metadata": {},
   "source": [
    "Taking this into account, we will fix the threshold at **65%**. This means that if the class with the highest probability has its probability lower than 65%, the article will be tagged as **Other**."
   ]
  }
 ],
 "metadata": {
  "kernelspec": {
   "display_name": "Python 3.9.1 64-bit",
   "language": "python",
   "name": "python3"
  },
  "language_info": {
   "codemirror_mode": {
    "name": "ipython",
    "version": 3
   },
   "file_extension": ".py",
   "mimetype": "text/x-python",
   "name": "python",
   "nbconvert_exporter": "python",
   "pygments_lexer": "ipython3",
   "version": "3.9.1"
  },
  "vscode": {
   "interpreter": {
    "hash": "5f52a3f3578b02bbf604551531def6b1550332462d8e3ad268b50e01ccd36abe"
   }
  }
 },
 "nbformat": 4,
 "nbformat_minor": 2
}
