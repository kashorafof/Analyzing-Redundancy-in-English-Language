{
 "cells": [
  {
   "cell_type": "code",
   "execution_count": null,
   "metadata": {},
   "outputs": [],
   "source": [
    "#only run one time \"too much time consuming\"\n",
    "\n",
    "\n",
    "#nltk.download('punkt')\n",
    "#import final_res as FS"
   ]
  },
  {
   "cell_type": "code",
   "execution_count": null,
   "metadata": {},
   "outputs": [],
   "source": [
    "from bs4 import BeautifulSoup, SoupStrainer\n",
    "import matplotlib.pyplot as plt\n",
    "import requests\n",
    "import httplib2\n",
    "import os\n",
    "from os.path import exists\n",
    "import csv\n",
    "import copy\n",
    "import import_ipynb\n",
    "import nltk\n",
    "import functions as Fun\n",
    "import time\n"
   ]
  },
  {
   "cell_type": "code",
   "execution_count": null,
   "metadata": {},
   "outputs": [],
   "source": [
    "\n",
    "links = open(\"../websites.txt\" , \"r\")\n",
    "result_path = \"../result\"\n",
    "\n",
    "\n",
    "categories_occurences = {\n",
    "    \"tech\" : 0,\n",
    "    \"sport\" : 0,\n",
    "    \"business\" : 0,\n",
    "    \"politics\" : 0,\n",
    "    \"entertainment\" : 0,\n",
    "    \"others\" : 0\n",
    "}\n",
    "\n",
    "words = [\" and \", \" or \", \" nor \", \" if \", \" because \", \" unless \"] # to do\n",
    "\n",
    "website_list = {\n",
    "\n",
    "    'Khaleej Times' : 'https://www.khaleejtimes.com/'\n",
    "}\n",
    "\n"
   ]
  },
  {
   "cell_type": "markdown",
   "metadata": {},
   "source": [
    "### Links extractor"
   ]
  },
  {
   "cell_type": "code",
   "execution_count": null,
   "metadata": {},
   "outputs": [],
   "source": [
    "for website_name, link in website_list.items():\n",
    "\n",
    "    url_extract = requests.get(link).text\n",
    "    s = \"\"\n",
    "    if link == \"https://nypost.com/\":\n",
    "        link = link + \"20\"\n",
    "    soup = BeautifulSoup(url_extract, )\n",
    "    texts = soup.find_all('a')\n",
    "    for L in texts:\n",
    "        s+= str(L)\n",
    "\n",
    "    s = set(s.split('\"'))\n",
    "    path = result_path + '/'+website_name\n",
    "    if not os.path.exists(path):\n",
    "        os.makedirs(path)\n",
    "    if not os.path.exists(path + '/texts'):\n",
    "        os.makedirs(path+ '/texts')\n",
    "    time.sleep(1)\n",
    "    outFile = open(path+\"/\"+website_name+\"_Links.txt\", \"w\")\n",
    "    for x in s:\n",
    "        if x.startswith(link) and '-' in x and len(x) >60 and not (\".svg\" in x or \".png\" in x):\n",
    "            outFile.write(x + \"\\n\")\n",
    "    outFile.close()"
   ]
  },
  {
   "cell_type": "markdown",
   "metadata": {},
   "source": [
    "### Artical text extractor"
   ]
  },
  {
   "cell_type": "code",
   "execution_count": 39,
   "metadata": {},
   "outputs": [
    {
     "name": "stderr",
     "output_type": "stream",
     "text": [
      "<string>:15: GuessedAtParserWarning: No parser was explicitly specified, so I'm using the best available HTML parser for this system (\"lxml\"). This usually isn't a problem, but if you run this code on another system, or in a different virtual environment, it may use a different parser and behave differently.\n",
      "\n",
      "The code that caused this warning is on line 15 of the file functions.ipynb. To get rid of this warning, pass the additional argument 'features=\"lxml\"' to the BeautifulSoup constructor.\n",
      "\n",
      "<string>:17: FutureWarning: The default value of regex will change from True to False in a future version. In addition, single character regular expressions will *not* be treated as literal strings when regex=True.\n",
      "<string>:31: FutureWarning: The default value of regex will change from True to False in a future version.\n",
      "<string>:17: FutureWarning: The default value of regex will change from True to False in a future version. In addition, single character regular expressions will *not* be treated as literal strings when regex=True.\n",
      "<string>:31: FutureWarning: The default value of regex will change from True to False in a future version.\n",
      "<string>:15: GuessedAtParserWarning: No parser was explicitly specified, so I'm using the best available HTML parser for this system (\"lxml\"). This usually isn't a problem, but if you run this code on another system, or in a different virtual environment, it may use a different parser and behave differently.\n",
      "\n",
      "The code that caused this warning is on line 15 of the file functions.ipynb. To get rid of this warning, pass the additional argument 'features=\"lxml\"' to the BeautifulSoup constructor.\n",
      "\n",
      "<string>:17: FutureWarning: The default value of regex will change from True to False in a future version. In addition, single character regular expressions will *not* be treated as literal strings when regex=True.\n",
      "<string>:31: FutureWarning: The default value of regex will change from True to False in a future version.\n",
      "<string>:17: FutureWarning: The default value of regex will change from True to False in a future version. In addition, single character regular expressions will *not* be treated as literal strings when regex=True.\n",
      "<string>:31: FutureWarning: The default value of regex will change from True to False in a future version.\n"
     ]
    }
   ],
   "source": [
    "checking = open('checking.txt', 'w', encoding= 'utf-8')\n",
    "\n",
    "for website_name, link in website_list.items():\n",
    "\n",
    "    path = result_path + '/' + website_name\n",
    "\n",
    "    inFile = open(result_path + '/'+website_name+'/'+website_name+\"_Links.txt\", \"r\")\n",
    "    links = inFile.readlines()\n",
    "    for n in links:\n",
    "        n = n.strip()\n",
    "        s =  Fun.scrapText(n.strip())\n",
    "\n",
    "        Length = len(texts)\n",
    "        for i in range(3 , Length):\n",
    "            if texts[i].text == \"ALSO READ:\": break\n",
    "            s +=  texts[i].text + \" \"\n",
    "        \n",
    "        genre , chance = FS.predict_from_text(s)\n",
    "\n",
    "        checking.write(n + \"\\n\" + genre + \" \" + str(chance) + \"\\n\")\n",
    "        if chance < 55.0:\n",
    "            genre = \"others\"\n",
    "        categories_occurences[genre] += 1\n",
    "        \n",
    "\n",
    "        outFile = open(result_path + '/'+website_name+'/texts/'+ genre +\".txt\", \"a+\" , encoding='utf-8' )\n",
    "\n",
    "        outFile.write(s)\n",
    "        outFile.write('\\n')\n",
    "    outFile.close()\n",
    "\n"
   ]
  },
  {
   "cell_type": "code",
   "execution_count": 40,
   "metadata": {},
   "outputs": [
    {
     "data": {
      "image/png": "[encoded data removed]",
      "text/plain": [
       "<Figure size 432x288 with 1 Axes>"
      ]
     },
     "metadata": {
      "needs_background": "light"
     },
     "output_type": "display_data"
    }
   ],
   "source": [
    "plt.bar(range(len(categories_occurences)), list(categories_occurences.values()), tick_label=list(categories_occurences.keys()))\n",
    "plt.margins(0)\n",
    "plt.show()"
   ]
  },
  {
   "cell_type": "code",
   "execution_count": null,
   "metadata": {},
   "outputs": [],
   "source": [
    "for link in website_list:\n",
    "    for lists in omittedcategories:\n",
    "        for omit in range(1, len(lists)):\n",
    "            if lists[omit] in categories:\n",
    "                categories.remove(lists[omit])\n",
    "            if os.path.exists(result_path + \"/khaleejtimes/texts/\"+lists[omit]+\".txt\"):\n",
    "                inputFile = open(result_path + \"/khaleejtimes/texts/\"+lists[omit]+\".txt\", \"r\", encoding='utf-8')\n",
    "                outputFile = open(result_path + \"/khaleejtimes/texts/\"+lists[0]+\".txt\", \"a\", encoding='utf-8')\n",
    "                text = inputFile.read()\n",
    "                outputFile.write(text)\n",
    "                inputFile.close()\n",
    "                os.remove(result_path + \"/khaleejtimes/texts/\"+lists[omit]+\".txt\")\n"
   ]
  },
  {
   "cell_type": "code",
   "execution_count": null,
   "metadata": {},
   "outputs": [],
   "source": [
    "for link in website_list:\n",
    "    website_name = link.split('/')[2]\n",
    "    website_name = website_name.replace(\"www.\",\"\")\n",
    "    website_name = website_name.replace(\".com\",\"\")\n",
    "    path = result_path + '/'+website_name\n",
    "\n",
    "\n",
    "\n",
    "    for category in categories:\n",
    "        inputFile = open(result_path + \"/khaleejtimes/texts/\"+category+\".txt\", \"r\", encoding='utf-8')\n",
    "        TextExtracted = inputFile.read()\n",
    "        occurences = []\n",
    "        for word in words:\n",
    "            occurences.append(TextExtracted.lower().count(word))\n",
    "        categories_occurences.append(occurences)\n",
    "        inputFile.close()\n",
    "    total = [0,0,0,0,0,0]\n",
    "    for occurence in categories_occurences:\n",
    "        for i in range(len(occurence)):\n",
    "            total[i] = total[i] + occurence[i]\n",
    "    statistics = open(path + \"/Statistics.txt\", \"w\", encoding='utf-8')\n",
    "    CSVstatistics = open(path + \"/Statistics.csv\", \"w\", encoding='utf-8')\n",
    "    csvwriter = csv.writer(CSVstatistics)\n",
    "    statistics.write(\"Total occurences:\\n\")\n",
    "    for index in range(len(words)):\n",
    "        statistics.write(words[index]+\" = \"+ str(total[index])+\" occurences.\\n\")\n",
    "    statistics.write(\"Statistics per category:\\n\")\n",
    "    statistics.write('{:35s}'.format(\"Category:\"))\n",
    "    for word in words:\n",
    "        statistics.write('|' + '{:5s}'.format(word))\n",
    "    statistics.write(\"\\n\")\n",
    "    for index in range(len(categories)):\n",
    "        statistics.write('{:35s}'.format(categories[index]))\n",
    "        for q in range(len(categories_occurences[0])):\n",
    "            statistics.write('|' + '{:5s}'.format(str(categories_occurences[index][q])))\n",
    "        statistics.write(\"\\n\")\n",
    "    csvStat = copy.deepcopy(categories_occurences)\n",
    "    for index in range(len(categories)):\n",
    "        csvStat[index].append(categories[index])\n",
    "        csvStat[index] = csvStat[index][-1:] + csvStat[index][:-1]\n",
    "    csvwriter.writerows(csvStat)\n",
    "    CSVstatistics.close()\n",
    "    statistics.close()\n"
   ]
  }
 ],
 "metadata": {
  "interpreter": {
   "hash": "2b85bf68d51e34d95835416afdd522bc73f0a0d9d2a47b4ca4c294dcef5f2a71"
  },
  "kernelspec": {
   "display_name": "Python 3.10.4 64-bit (windows store)",
   "language": "python",
   "name": "python3"
  },
  "language_info": {
   "codemirror_mode": {
    "name": "ipython",
    "version": 3
   },
   "file_extension": ".py",
   "mimetype": "text/x-python",
   "name": "python",
   "nbconvert_exporter": "python",
   "pygments_lexer": "ipython3",
   "version": "3.10.4"
  },
  "orig_nbformat": 4
 },
 "nbformat": 4,
 "nbformat_minor": 2
}
