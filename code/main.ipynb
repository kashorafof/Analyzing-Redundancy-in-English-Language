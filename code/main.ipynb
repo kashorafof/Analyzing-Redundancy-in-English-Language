{
 "cells": [
  {
   "cell_type": "code",
   "execution_count": null,
   "metadata": {},
   "outputs": [],
   "source": [
    "#only run one time \"too much time consuming\"\n",
    "\n",
    "\n",
    "#nltk.download('punkt')"
   ]
  },
  {
   "cell_type": "code",
   "execution_count": null,
   "metadata": {},
   "outputs": [],
   "source": [
    "from bs4 import BeautifulSoup, SoupStrainer\n",
    "import matplotlib.pyplot as plt\n",
    "import numpy as np\n",
    "import requests\n",
    "import httplib2\n",
    "import os\n",
    "from os.path import exists\n",
    "import csv\n",
    "import copy\n",
    "import import_ipynb\n",
    "import nltk\n",
    "import functions as Fun\n",
    "import time\n",
    "#import final_res as FS\n"
   ]
  },
  {
   "cell_type": "code",
   "execution_count": null,
   "metadata": {},
   "outputs": [],
   "source": [
    "\n",
    "links = open(\"../websites.txt\" , \"r\")\n",
    "result_path = \"../result\"\n",
    "\n",
    "\n",
    "categories = [\"tech\", \"sport\", \"business\", \"politics\", \"entertainment\", \"others\"]\n",
    "\n",
    "\n",
    "words = [\" and \", \" or \", \" nor \", \" if \", \" because \", \" unless \"] # to do\n",
    "categories_occurences = {}\n",
    "\n",
    "categories_occurences = dict.fromkeys(categories, 0)\n",
    "\n",
    "\n",
    "categories_statistics = {\n",
    "    'tech': {},\n",
    "    'sport': {},\n",
    "    'business': {},\n",
    "    'politics': {},\n",
    "    'entertainment': {},\n",
    "    'others': {}\n",
    "}\n",
    "\n",
    "for key,value in categories_statistics.items():\n",
    "    for word in words:\n",
    "        categories_statistics[key][word] = 0\n",
    "\n",
    "\n",
    "website_list = {\n",
    "\n",
    "    'Khaleej Times' : 'https://www.khaleejtimes.com/'\n",
    "}\n"
   ]
  },
  {
   "cell_type": "markdown",
   "metadata": {},
   "source": [
    "### Links extractor"
   ]
  },
  {
   "cell_type": "code",
   "execution_count": null,
   "metadata": {},
   "outputs": [],
   "source": [
    "for website_name, link in website_list.items():\n",
    "\n",
    "    url_extract = requests.get(link).text\n",
    "    s = \"\"\n",
    "    if link == \"https://nypost.com/\":\n",
    "        link = link + \"20\"\n",
    "    soup = BeautifulSoup(url_extract, )\n",
    "    texts = soup.find_all('a')\n",
    "    for L in texts:\n",
    "        s+= str(L)\n",
    "\n",
    "    s = set(s.split('\"'))\n",
    "    path = result_path + '/'+website_name\n",
    "    if not os.path.exists(path):\n",
    "        os.makedirs(path)\n",
    "    if not os.path.exists(path + '/texts'):\n",
    "        os.makedirs(path+ '/texts')\n",
    "    time.sleep(1)\n",
    "    outFile = open(path+\"/\"+website_name+\"_Links.txt\", \"w\")\n",
    "    for x in s:\n",
    "        if x.startswith(link) and '-' in x and len(x) >60 and not (\".svg\" in x or \".png\" in x):\n",
    "            outFile.write(x + \"\\n\")\n",
    "    outFile.close()"
   ]
  },
  {
   "cell_type": "markdown",
   "metadata": {},
   "source": [
    "### Artical text extractor"
   ]
  },
  {
   "cell_type": "code",
   "execution_count": null,
   "metadata": {},
   "outputs": [],
   "source": [
    "checking = open('checking.txt', 'w', encoding= 'utf-8')\n",
    "check = \"\"\n",
    "for website_name, link in website_list.items():\n",
    "\n",
    "    path = result_path + '/' + website_name\n",
    "\n",
    "    inFile = open(result_path + '/' +website_name+'/'+website_name+\"_Links.txt\", \"r\")\n",
    "    links = inFile.readlines()\n",
    "    for n in links:\n",
    "        n = n.strip()\n",
    "        s =  Fun.scrapText(n.strip())\n",
    "\n",
    "\n",
    "        \n",
    "        genre , chance = FS.predict_from_text(s)\n",
    "\n",
    "        check += n + \"\\n\" + genre + \" \" + str(chance) + \"\\n\\n\"\n",
    "        checking.write(n + \"\\n\" + genre + \" \" + str(chance) + \"\\n\\n\")\n",
    "        print(genre, chance)\n",
    "        if np.float32(chance) < 55.0:\n",
    "            genre = \"others\"\n",
    "        categories_occurences[genre] += 1\n",
    "        \n",
    "\n",
    "        outFile = open(result_path + '/'+website_name+'/texts/'+ genre +\".txt\", \"a+\" , encoding='utf-8' )\n",
    "\n",
    "        outFile.write(s)\n",
    "        outFile.write('\\n')\n",
    "        outFile.close()"
   ]
  },
  {
   "cell_type": "code",
   "execution_count": 40,
   "metadata": {},
   "outputs": [
    {
     "data": {
      "image/png": "[encoded data removed]",
      "text/plain": [
       "<Figure size 432x288 with 1 Axes>"
      ]
     },
     "metadata": {
      "needs_background": "light"
     },
     "output_type": "display_data"
    }
   ],
   "source": [
    "plt.bar(range(len(categories_occurences)), list(categories_occurences.values()), tick_label=list(categories_occurences.keys()))\n",
    "plt.margins(0)\n",
    "plt.show()"
   ]
  },
  {
   "cell_type": "markdown",
   "metadata": {},
   "source": [
    "## Analytics\n"
   ]
  },
  {
   "cell_type": "code",
   "execution_count": 39,
   "metadata": {},
   "outputs": [
    {
     "name": "stdout",
     "output_type": "stream",
     "text": [
      "{'tech': {' and ': 168, ' or ': 11, ' nor ': 0, ' if ': 1, ' because ': 8, ' unless ': 0}, 'sport': {' and ': 310, ' or ': 31, ' nor ': 2, ' if ': 7, ' because ': 8, ' unless ': 0}, 'business': {' and ': 100, ' or ': 0, ' nor ': 0, ' if ': 0, ' because ': 1, ' unless ': 0}, 'politics': {' and ': 0, ' or ': 0, ' nor ': 0, ' if ': 0, ' because ': 0, ' unless ': 0}, 'entertainment': {' and ': 1240, ' or ': 508, ' nor ': 0, ' if ': 56, ' because ': 54, ' unless ': 56}, 'others': {' and ': 192, ' or ': 24, ' nor ': 0, ' if ': 12, ' because ': 15, ' unless ': 0}}\n"
     ]
    }
   ],
   "source": [
    "for website_name, link in website_list.items():\n",
    "    for key,value in categories_statistics.items():\n",
    "        path = result_path + '/'+website_name+'/texts/'+ key +\".txt\"\n",
    "        if not os.path.isfile(path): continue\n",
    "        text = open(path , \"r\", encoding='utf-8')\n",
    "        text = text.read()\n",
    "        categories_statistics[key] = Fun.get_statistics(text, value)\n",
    "\n",
    "print( categories_statistics)"
   ]
  },
  {
   "cell_type": "code",
   "execution_count": 44,
   "metadata": {},
   "outputs": [
    {
     "data": {
      "image/png": "[encoded data removed]",
      "text/plain": [
       "<Figure size 432x288 with 1 Axes>"
      ]
     },
     "metadata": {
      "needs_background": "light"
     },
     "output_type": "display_data"
    },
    {
     "data": {
      "image/png": "[encoded data removed]",
      "text/plain": [
       "<Figure size 432x288 with 1 Axes>"
      ]
     },
     "metadata": {
      "needs_background": "light"
     },
     "output_type": "display_data"
    },
    {
     "data": {
      "image/png": "[encoded data removed]",
      "text/plain": [
       "<Figure size 432x288 with 1 Axes>"
      ]
     },
     "metadata": {
      "needs_background": "light"
     },
     "output_type": "display_data"
    },
    {
     "data": {
      "image/png": "[encoded data removed]",
      "text/plain": [
       "<Figure size 432x288 with 1 Axes>"
      ]
     },
     "metadata": {
      "needs_background": "light"
     },
     "output_type": "display_data"
    },
    {
     "data": {
      "image/png": "[encoded data removed]",
      "text/plain": [
       "<Figure size 432x288 with 1 Axes>"
      ]
     },
     "metadata": {
      "needs_background": "light"
     },
     "output_type": "display_data"
    },
    {
     "data": {
      "image/png": "[encoded data removed]",
      "text/plain": [
       "<Figure size 432x288 with 1 Axes>"
      ]
     },
     "metadata": {
      "needs_background": "light"
     },
     "output_type": "display_data"
    }
   ],
   "source": [
    "\n",
    "for key,value in categories_statistics.items():\n",
    "    plt.bar(range(len(value)), list(value.values()), tick_label=list(value.keys()))\n",
    "    plt.margins(0)\n",
    "    plt.show()"
   ]
  }
 ],
 "metadata": {
  "interpreter": {
   "hash": "2b85bf68d51e34d95835416afdd522bc73f0a0d9d2a47b4ca4c294dcef5f2a71"
  },
  "kernelspec": {
   "display_name": "Python 3.10.4 64-bit (windows store)",
   "language": "python",
   "name": "python3"
  },
  "language_info": {
   "codemirror_mode": {
    "name": "ipython",
    "version": 3
   },
   "file_extension": ".py",
   "mimetype": "text/x-python",
   "name": "python",
   "nbconvert_exporter": "python",
   "pygments_lexer": "ipython3",
   "version": "3.10.4"
  },
  "orig_nbformat": 4
 },
 "nbformat": 4,
 "nbformat_minor": 2
}
