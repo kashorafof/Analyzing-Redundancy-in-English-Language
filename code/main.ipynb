{
 "cells": [
  {
   "cell_type": "code",
   "execution_count": 1,
   "metadata": {},
   "outputs": [
    {
     "name": "stdout",
     "output_type": "stream",
     "text": [
      "importing Jupyter notebook from functions.ipynb\n",
      "importing Jupyter notebook from final_res.ipynb\n"
     ]
    },
    {
     "name": "stderr",
     "output_type": "stream",
     "text": [
      "C:\\Users\\kasho\\AppData\\Local\\Packages\\PythonSoftwareFoundation.Python.3.10_qbz5n2kfra8p0\\LocalCache\\local-packages\\Python310\\site-packages\\sklearn\\base.py:329: UserWarning: Trying to unpickle estimator TfidfTransformer from version 0.19.1 when using version 1.1.1. This might lead to breaking code or invalid results. Use at your own risk. For more info please refer to:\n",
      "https://scikit-learn.org/stable/model_persistence.html#security-maintainability-limitations\n",
      "  warnings.warn(\n",
      "C:\\Users\\kasho\\AppData\\Local\\Packages\\PythonSoftwareFoundation.Python.3.10_qbz5n2kfra8p0\\LocalCache\\local-packages\\Python310\\site-packages\\sklearn\\base.py:329: UserWarning: Trying to unpickle estimator TfidfVectorizer from version 0.19.1 when using version 1.1.1. This might lead to breaking code or invalid results. Use at your own risk. For more info please refer to:\n",
      "https://scikit-learn.org/stable/model_persistence.html#security-maintainability-limitations\n",
      "  warnings.warn(\n",
      "<string>:17: FutureWarning: The default value of regex will change from True to False in a future version. In addition, single character regular expressions will *not* be treated as literal strings when regex=True.\n",
      "<string>:31: FutureWarning: The default value of regex will change from True to False in a future version.\n",
      "<string>:17: FutureWarning: The default value of regex will change from True to False in a future version. In addition, single character regular expressions will *not* be treated as literal strings when regex=True.\n",
      "<string>:31: FutureWarning: The default value of regex will change from True to False in a future version.\n",
      "<string>:17: FutureWarning: The default value of regex will change from True to False in a future version. In addition, single character regular expressions will *not* be treated as literal strings when regex=True.\n",
      "<string>:31: FutureWarning: The default value of regex will change from True to False in a future version.\n",
      "<string>:17: FutureWarning: The default value of regex will change from True to False in a future version. In addition, single character regular expressions will *not* be treated as literal strings when regex=True.\n",
      "<string>:31: FutureWarning: The default value of regex will change from True to False in a future version.\n",
      "<string>:17: FutureWarning: The default value of regex will change from True to False in a future version. In addition, single character regular expressions will *not* be treated as literal strings when regex=True.\n",
      "<string>:31: FutureWarning: The default value of regex will change from True to False in a future version.\n",
      "<string>:17: FutureWarning: The default value of regex will change from True to False in a future version. In addition, single character regular expressions will *not* be treated as literal strings when regex=True.\n",
      "<string>:31: FutureWarning: The default value of regex will change from True to False in a future version.\n",
      "<string>:17: FutureWarning: The default value of regex will change from True to False in a future version. In addition, single character regular expressions will *not* be treated as literal strings when regex=True.\n",
      "<string>:31: FutureWarning: The default value of regex will change from True to False in a future version.\n",
      "<string>:17: FutureWarning: The default value of regex will change from True to False in a future version. In addition, single character regular expressions will *not* be treated as literal strings when regex=True.\n",
      "<string>:31: FutureWarning: The default value of regex will change from True to False in a future version.\n",
      "<string>:17: FutureWarning: The default value of regex will change from True to False in a future version. In addition, single character regular expressions will *not* be treated as literal strings when regex=True.\n",
      "<string>:31: FutureWarning: The default value of regex will change from True to False in a future version.\n",
      "<string>:17: FutureWarning: The default value of regex will change from True to False in a future version. In addition, single character regular expressions will *not* be treated as literal strings when regex=True.\n",
      "<string>:31: FutureWarning: The default value of regex will change from True to False in a future version.\n",
      "<string>:17: FutureWarning: The default value of regex will change from True to False in a future version. In addition, single character regular expressions will *not* be treated as literal strings when regex=True.\n",
      "<string>:31: FutureWarning: The default value of regex will change from True to False in a future version.\n",
      "<string>:17: FutureWarning: The default value of regex will change from True to False in a future version. In addition, single character regular expressions will *not* be treated as literal strings when regex=True.\n",
      "<string>:31: FutureWarning: The default value of regex will change from True to False in a future version.\n",
      "<string>:17: FutureWarning: The default value of regex will change from True to False in a future version. In addition, single character regular expressions will *not* be treated as literal strings when regex=True.\n",
      "<string>:31: FutureWarning: The default value of regex will change from True to False in a future version.\n",
      "<string>:17: FutureWarning: The default value of regex will change from True to False in a future version. In addition, single character regular expressions will *not* be treated as literal strings when regex=True.\n",
      "<string>:31: FutureWarning: The default value of regex will change from True to False in a future version.\n",
      "<string>:17: FutureWarning: The default value of regex will change from True to False in a future version. In addition, single character regular expressions will *not* be treated as literal strings when regex=True.\n",
      "<string>:31: FutureWarning: The default value of regex will change from True to False in a future version.\n",
      "<string>:17: FutureWarning: The default value of regex will change from True to False in a future version. In addition, single character regular expressions will *not* be treated as literal strings when regex=True.\n",
      "<string>:31: FutureWarning: The default value of regex will change from True to False in a future version.\n",
      "<string>:17: FutureWarning: The default value of regex will change from True to False in a future version. In addition, single character regular expressions will *not* be treated as literal strings when regex=True.\n",
      "<string>:31: FutureWarning: The default value of regex will change from True to False in a future version.\n",
      "<string>:17: FutureWarning: The default value of regex will change from True to False in a future version. In addition, single character regular expressions will *not* be treated as literal strings when regex=True.\n",
      "<string>:31: FutureWarning: The default value of regex will change from True to False in a future version.\n"
     ]
    }
   ],
   "source": [
    "from bs4 import BeautifulSoup, SoupStrainer\n",
    "import requests\n",
    "import httplib2\n",
    "import os\n",
    "from os.path import exists\n",
    "import csv\n",
    "import copy\n",
    "import import_ipynb\n",
    "import nltk\n",
    "from functions import *\n",
    "import final_res as FS\n"
   ]
  },
  {
   "cell_type": "code",
   "execution_count": null,
   "metadata": {},
   "outputs": [],
   "source": [
    "\n",
    "nltk.download('punkt')"
   ]
  },
  {
   "cell_type": "code",
   "execution_count": 6,
   "metadata": {},
   "outputs": [],
   "source": [
    "\n",
    "links = open(\"../websites.txt\" , \"r\")\n",
    "result_path = \"../result\"\n",
    "\n",
    "categories = {}\n",
    "categories.update(dict.fromkeys([\"cricket\", \"football\", \"tennis\"] , \"Sports\"))\n",
    "categories.update(dict.fromkeys([ \"gulf\", \"americas\", \"mena\", \"asia\"] , \"World\"))\n",
    "\n",
    "categories_occurences = {\n",
    "    \"sports\" : 0,\n",
    "    \"world\"  : 0,\n",
    "    \"others\" : 0\n",
    "}\n",
    "\n",
    "words = [\" and \", \" or \", \" nor \", \" if \", \" because \", \" unless \"]\n",
    "website_list = links.read()\n",
    "website_list = website_list.split(\"\\n\")"
   ]
  },
  {
   "cell_type": "markdown",
   "metadata": {},
   "source": [
    "### Links extractor"
   ]
  },
  {
   "cell_type": "code",
   "execution_count": 8,
   "metadata": {},
   "outputs": [],
   "source": [
    "for link in website_list:\n",
    "    url_extract = requests.get(link).text\n",
    "    s = \"\"\n",
    "    if link == \"https://nypost.com/\":\n",
    "        link = link + \"20\"\n",
    "    soup = BeautifulSoup(url_extract, )\n",
    "    texts = soup.find_all('a')\n",
    "    for L in texts:\n",
    "        s+= str(L)\n",
    "    link_splitted = link.split('/')\n",
    "    website_name = link_splitted[2]\n",
    "    website_name = website_name.replace(\"www.\",\"\")\n",
    "    website_name = website_name.replace(\".com\",\"\")\n",
    "    s = set(s.split('\"'))\n",
    "    path = result_path + '/'+website_name\n",
    "    if not os.path.exists(path):\n",
    "        os.makedirs(path)\n",
    "    if not os.path.exists(path + '/texts'):\n",
    "        os.makedirs(path+ '/texts')\n",
    "    outFile = open(path+\"/\"+website_name+\"_Links.txt\", \"w\")\n",
    "    for x in s:\n",
    "        if x.startswith(link) and '-' in x and len(x) >60 and not (\".svg\" in x or \".png\" in x):\n",
    "            outFile.write(x + \"\\n\")"
   ]
  },
  {
   "cell_type": "markdown",
   "metadata": {},
   "source": [
    "### Artical text extractor"
   ]
  },
  {
   "cell_type": "code",
   "execution_count": 14,
   "metadata": {},
   "outputs": [
    {
     "name": "stderr",
     "output_type": "stream",
     "text": [
      "<string>:17: FutureWarning: The default value of regex will change from True to False in a future version. In addition, single character regular expressions will *not* be treated as literal strings when regex=True.\n",
      "<string>:31: FutureWarning: The default value of regex will change from True to False in a future version.\n"
     ]
    }
   ],
   "source": [
    "for link in website_list:\n",
    "    website_name = link.split('/')[2]\n",
    "    website_name = website_name.replace(\"www.\",\"\")\n",
    "    website_name = website_name.replace(\".com\",\"\")\n",
    "    path = result_path + '/'+website_name\n",
    "    inFile = open(result_path + '/'+website_name+'/'+website_name+\"_Links.txt\", \"r\")\n",
    "    links = inFile.readlines()\n",
    "    for n in links:\n",
    "        n = n.strip()\n",
    "        url_extract = requests.get(n).text\n",
    "        bool = 'true'\n",
    "        soup = BeautifulSoup(url_extract, )\n",
    "        texts = soup.find_all('p')\n",
    "        s =  ''\n",
    "\n",
    "        for L in texts:\n",
    "            s+=  L.text + \" \"\n",
    "        \n",
    "        genre , chance = FS.predict_from_text(s)\n",
    "        \n",
    "        checking = open('checking.txt' , encoding='utf-8')\n",
    "        checking.write(\"%a genre with chance %a\", genre, chance)\n",
    "\n",
    "        outFile = open(result_path + '/'+website_name+'/texts/'+ genre +\".txt\", \"a+\" , encoding='utf-8' )\n",
    "\n",
    "        outFile.write('\\n')\n",
    "        for x in s:\n",
    "            outFile.write(x)\n",
    "            outFile.write(\".\\n\")\n",
    "    outFile.close()"
   ]
  },
  {
   "cell_type": "code",
   "execution_count": 23,
   "metadata": {},
   "outputs": [
    {
     "name": "stdout",
     "output_type": "stream",
     "text": [
      "importing Jupyter notebook from functions.ipynb\n"
     ]
    },
    {
     "data": {
      "text/plain": [
       "'A dust storm has hit parts of Abu Dhabi, with visibility reduced to less than 100 metres in some areas. The UAE’s National Centre of Meteorology (NCM) has issued a dust storm alert, with varying intensities expected:\\nSuspended dust reduced visibility to less than 100 metres in Al Hamra (Al Dhafra) and Umm Al Sheif Island on Tuesday morning. Visibility has been brought down to less than 500 metres on Dalma Island, according to the NCM.\\nCountries in the Middle East have been hit by sand storms, with flight operations in two Arab countries – Kuwait and Iraq – affected.\\nLast night, the NCM had predicted that a storm brewing over the Arabian Gulf would hit the western part of the UAE today after blowing over Saudi Arabia.\\nOn Tuesday, social media handle Storm Centre posted satellite images showing the movement of the dust:\\nEarlier today, forecasters predicted severe dusty weather conditions in the UAE with a decrease in temperatures over the next few days.\\xa0Windy conditions will persist, with speeds reaching 45kmph, affecting visibility.\\nSevere dust storms have engulfed parts of the Middle East over the past few days. For the second time this month, Kuwait International Airport suspended all flights temporarily on Monday because of the dust.\\nA heavy sandstorm in Iraq forced the closure of some state schools and offices and halted flights at Baghdad International Airport. Other countries, including Saudi Arabia, have issued dust storm alerts as well.\\n'"
      ]
     },
     "execution_count": 23,
     "metadata": {},
     "output_type": "execute_result"
    }
   ],
   "source": [
    "import import_ipynb\n",
    "import functions \n",
    "import imp\n",
    "imp.reload(functions)\n",
    "linkToText(\"https://www.khaleejtimes.com/uae/dust-storm-in-uae-visibility-down-to-100-metres-in-some-areas\")\n"
   ]
  },
  {
   "cell_type": "code",
   "execution_count": null,
   "metadata": {},
   "outputs": [],
   "source": [
    "for link in website_list:\n",
    "    for lists in omittedcategories:\n",
    "        for omit in range(1, len(lists)):\n",
    "            if lists[omit] in categories:\n",
    "                categories.remove(lists[omit])\n",
    "            if os.path.exists(result_path + \"/khaleejtimes/texts/\"+lists[omit]+\".txt\"):\n",
    "                inputFile = open(result_path + \"/khaleejtimes/texts/\"+lists[omit]+\".txt\", \"r\", encoding='utf-8')\n",
    "                outputFile = open(result_path + \"/khaleejtimes/texts/\"+lists[0]+\".txt\", \"a\", encoding='utf-8')\n",
    "                text = inputFile.read()\n",
    "                outputFile.write(text)\n",
    "                inputFile.close()\n",
    "                os.remove(result_path + \"/khaleejtimes/texts/\"+lists[omit]+\".txt\")\n"
   ]
  },
  {
   "cell_type": "code",
   "execution_count": null,
   "metadata": {},
   "outputs": [],
   "source": [
    "for link in website_list:\n",
    "    website_name = link.split('/')[2]\n",
    "    website_name = website_name.replace(\"www.\",\"\")\n",
    "    website_name = website_name.replace(\".com\",\"\")\n",
    "    path = result_path + '/'+website_name\n",
    "\n",
    "\n",
    "\n",
    "    for category in categories:\n",
    "        inputFile = open(result_path + \"/khaleejtimes/texts/\"+category+\".txt\", \"r\", encoding='utf-8')\n",
    "        TextExtracted = inputFile.read()\n",
    "        occurences = []\n",
    "        for word in words:\n",
    "            occurences.append(TextExtracted.lower().count(word))\n",
    "        categories_occurences.append(occurences)\n",
    "        inputFile.close()\n",
    "    total = [0,0,0,0,0,0]\n",
    "    for occurence in categories_occurences:\n",
    "        for i in range(len(occurence)):\n",
    "            total[i] = total[i] + occurence[i]\n",
    "    statistics = open(path + \"/Statistics.txt\", \"w\", encoding='utf-8')\n",
    "    CSVstatistics = open(path + \"/Statistics.csv\", \"w\", encoding='utf-8')\n",
    "    csvwriter = csv.writer(CSVstatistics)\n",
    "    statistics.write(\"Total occurences:\\n\")\n",
    "    for index in range(len(words)):\n",
    "        statistics.write(words[index]+\" = \"+ str(total[index])+\" occurences.\\n\")\n",
    "    statistics.write(\"Statistics per category:\\n\")\n",
    "    statistics.write('{:35s}'.format(\"Category:\"))\n",
    "    for word in words:\n",
    "        statistics.write('|' + '{:5s}'.format(word))\n",
    "    statistics.write(\"\\n\")\n",
    "    for index in range(len(categories)):\n",
    "        statistics.write('{:35s}'.format(categories[index]))\n",
    "        for q in range(len(categories_occurences[0])):\n",
    "            statistics.write('|' + '{:5s}'.format(str(categories_occurences[index][q])))\n",
    "        statistics.write(\"\\n\")\n",
    "    csvStat = copy.deepcopy(categories_occurences)\n",
    "    for index in range(len(categories)):\n",
    "        csvStat[index].append(categories[index])\n",
    "        csvStat[index] = csvStat[index][-1:] + csvStat[index][:-1]\n",
    "    csvwriter.writerows(csvStat)\n",
    "    CSVstatistics.close()\n",
    "    statistics.close()\n"
   ]
  }
 ],
 "metadata": {
  "interpreter": {
   "hash": "2b85bf68d51e34d95835416afdd522bc73f0a0d9d2a47b4ca4c294dcef5f2a71"
  },
  "kernelspec": {
   "display_name": "Python 3.10.4 64-bit (windows store)",
   "language": "python",
   "name": "python3"
  },
  "language_info": {
   "codemirror_mode": {
    "name": "ipython",
    "version": 3
   },
   "file_extension": ".py",
   "mimetype": "text/x-python",
   "name": "python",
   "nbconvert_exporter": "python",
   "pygments_lexer": "ipython3",
   "version": "3.10.4"
  },
  "orig_nbformat": 4
 },
 "nbformat": 4,
 "nbformat_minor": 2
}
