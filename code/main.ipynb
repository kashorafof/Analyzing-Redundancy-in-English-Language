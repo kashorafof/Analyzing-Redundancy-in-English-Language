{
 "cells": [
  {
   "cell_type": "code",
   "execution_count": 1,
   "metadata": {},
   "outputs": [],
   "source": [
    "from bs4 import BeautifulSoup, SoupStrainer\n",
    "import requests\n",
    "import httplib2\n",
    "import os\n",
    "from os.path import exists\n",
    "import csv\n",
    "import copy"
   ]
  },
  {
   "cell_type": "code",
   "execution_count": 2,
   "metadata": {},
   "outputs": [],
   "source": [
    "categories = []\n",
    "categories_occurences = []\n",
    "omittedcategories = [[\"sports\", \"cricket\", \"football\", \"tennis\"], [\"world\", \"gulf\", \"americas\", \"mena\", \"asia\"]]\n",
    "words = [\" and \", \" or \", \" nor \", \" if \", \" because \", \" unless \"]\n",
    "links = open(\"websites.txt\" , \"r\")\n",
    "website_list = links.read()\n",
    "website_list = website_list.split(\"\\n\")"
   ]
  },
  {
   "cell_type": "markdown",
   "metadata": {},
   "source": [
    "### Links extractor"
   ]
  },
  {
   "cell_type": "code",
   "execution_count": 7,
   "metadata": {},
   "outputs": [],
   "source": [
    "for link in website_list:\n",
    "    url_extract = requests.get(link).text\n",
    "    s = \"\"\n",
    "    if link == \"https://nypost.com/\":\n",
    "        link = link + \"20\"\n",
    "    soup = BeautifulSoup(url_extract, )\n",
    "    texts = soup.find_all('a')\n",
    "    for L in texts:\n",
    "        s+= str(L)\n",
    "    link_splitted = link.split('/')\n",
    "    website_name = link_splitted[2]\n",
    "    website_name = website_name.replace(\"www.\",\"\")\n",
    "    website_name = website_name.replace(\".com\",\"\")\n",
    "    s = set(s.split('\"'))\n",
    "    path = '../Research project/'+website_name\n",
    "    if not os.path.exists(path):\n",
    "        os.makedirs(path)\n",
    "    if not os.path.exists(path + '/texts'):\n",
    "        os.makedirs(path+ '/texts')\n",
    "    outFile = open(path+\"/\"+website_name+\"_Links.txt\", \"w\")\n",
    "    for x in s:\n",
    "        if x.startswith(link) and '-' in x and len(x) >60 and not (\".svg\" in x or \".png\" in x):\n",
    "            outFile.write(x + \"\\n\")"
   ]
  },
  {
   "cell_type": "markdown",
   "metadata": {},
   "source": [
    "### Artical text extractor"
   ]
  },
  {
   "cell_type": "code",
   "execution_count": 9,
   "metadata": {},
   "outputs": [],
   "source": [
    "for link in website_list:\n",
    "    inFile = open('../Research project/'+website_name+'/'+website_name+\"_Links.txt\", \"r\")\n",
    "    links = inFile.readlines()\n",
    "    for n in links:\n",
    "        n = n.strip()\n",
    "        outFile = open('../Research project/'+website_name+'/texts/'+n.split('/')[3]+\".txt\", \"a+\"  , encoding=\"utf-8\")\n",
    "        url_extract = requests.get(n).text\n",
    "        bool = 'true'\n",
    "        genre = n.split('/')[3]\n",
    "        #and_count = n.count\n",
    "        for category in categories:\n",
    "            if category == genre:\n",
    "                bool = 'false'\n",
    "        if bool == 'true':\n",
    "            categories.append(genre)\n",
    "        s = \"\"\n",
    "        soup = BeautifulSoup(url_extract, )\n",
    "        texts = soup.find_all('p')\n",
    "        for L in texts:\n",
    "            s+=L.text\n",
    "        s= s.split('.')\n",
    "        outFile.write('\\n')\n",
    "        for x in s:\n",
    "            outFile.write(x)\n",
    "            outFile.write(\".\\n\")\n",
    "    outFile.close()"
   ]
  },
  {
   "cell_type": "code",
   "execution_count": null,
   "metadata": {},
   "outputs": [],
   "source": [
    "for link in website_list:\n",
    "    for lists in omittedcategories:\n",
    "        for omit in range(1, len(lists)):\n",
    "            if lists[omit] in categories:\n",
    "                categories.remove(lists[omit])\n",
    "            if os.path.exists(\"../Research project/khaleejtimes/texts/\"+lists[omit]+\".txt\"):\n",
    "                inputFile = open(\"../Research project/khaleejtimes/texts/\"+lists[omit]+\".txt\", \"r\")\n",
    "                outputFile = open(\"../Research project/khaleejtimes/texts/\"+lists[0]+\".txt\", \"a\")\n",
    "                text = inputFile.read()\n",
    "                outputFile.write(text)\n",
    "                os.remove(\"../Research project/khaleejtimes/texts/\"+lists[omit]+\".txt\")\n",
    "\n",
    "    for category in categories:\n",
    "        inputFile = open(\"../Research project/khaleejtimes/texts/\"+category+\".txt\", \"r\")\n",
    "        TextExtracted = inputFile.read()\n",
    "        occurences = []\n",
    "        for word in words:\n",
    "            occurences.append(TextExtracted.lower().count(word))\n",
    "        categories_occurences.append(occurences)\n",
    "        inputFile.close()\n",
    "    total = [0,0,0,0,0,0]\n",
    "    for occurence in categories_occurences:\n",
    "        for i in range(len(occurence)):\n",
    "            total[i] = total[i] + occurence[i]\n",
    "    statistics = open(path + \"/Statistics.txt\", \"w\")\n",
    "    CSVstatistics = open(path + \"/Statistics.csv\", \"w\")\n",
    "    csvwriter = csv.writer(CSVstatistics)\n",
    "    statistics.write(\"Total occurences:\\n\")\n",
    "    for index in range(len(words)):\n",
    "        statistics.write(words[index]+\" = \"+ str(total[index])+\" occurences.\\n\")\n",
    "    statistics.write(\"Statistics per category:\\n\")\n",
    "    statistics.write('{:35s}'.format(\"Category:\"))\n",
    "    for word in words:\n",
    "        statistics.write('|' + '{:5s}'.format(word))\n",
    "    statistics.write(\"\\n\")\n",
    "    for index in range(len(categories)):\n",
    "        statistics.write('{:35s}'.format(categories[index]))\n",
    "        for q in range(len(categories_occurences[0])):\n",
    "            statistics.write('|' + '{:5s}'.format(str(categories_occurences[index][q])))\n",
    "        statistics.write(\"\\n\")\n",
    "    csvStat = copy.deepcopy(categories_occurences)\n",
    "    for index in range(len(categories)):\n",
    "        csvStat[index].append(categories[index])\n",
    "        csvStat[index] = csvStat[index][-1:] + csvStat[index][:-1]\n",
    "    csvwriter.writerows(csvStat)\n",
    "    CSVstatistics.close()\n",
    "    statistics.close()"
   ]
  }
 ],
 "metadata": {
  "interpreter": {
   "hash": "2b85bf68d51e34d95835416afdd522bc73f0a0d9d2a47b4ca4c294dcef5f2a71"
  },
  "kernelspec": {
   "display_name": "Python 3.10.4 64-bit (windows store)",
   "language": "python",
   "name": "python3"
  },
  "language_info": {
   "codemirror_mode": {
    "name": "ipython",
    "version": 3
   },
   "file_extension": ".py",
   "mimetype": "text/x-python",
   "name": "python",
   "nbconvert_exporter": "python",
   "pygments_lexer": "ipython3",
   "version": "3.10.4"
  },
  "orig_nbformat": 4
 },
 "nbformat": 4,
 "nbformat_minor": 2
}
