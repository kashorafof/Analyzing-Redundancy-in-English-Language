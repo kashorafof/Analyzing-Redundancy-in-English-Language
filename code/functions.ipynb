{
 "cells": [
  {
   "cell_type": "code",
   "execution_count": 18,
   "metadata": {},
   "outputs": [],
   "source": [
    "from bs4 import BeautifulSoup, SoupStrainer\n",
    "import requests\n",
    "import httplib2\n",
    "import os\n",
    "from os.path import exists\n",
    "import csv\n",
    "import copy\n",
    "\n",
    "def cc(x):\n",
    "    return 5*x\n",
    "\n",
    "def scrapText(link):\n",
    "\n",
    "    \n",
    "    headers = requests.utils.default_headers()\n",
    "\n",
    "    headers.update(\n",
    "        {\n",
    "            'User-Agent': 'My User Agent 1.0',\n",
    "        }\n",
    "    )\n",
    "\n",
    "    url_extract = requests.get(link, headers=headers).text\n",
    "    soup = BeautifulSoup(url_extract, )\n",
    "    texts = soup.find_all('p')\n",
    "    s = \"\"\n",
    "    Length = len(texts)\n",
    "    for i in range(3 , Length):\n",
    "        if texts[i].text == \"ALSO READ:\": break\n",
    "        s +=  texts[i].text + '\\n'\n",
    "    return s\n",
    "\n",
    "\n"
   ]
  },
  {
   "cell_type": "code",
   "execution_count": 19,
   "metadata": {},
   "outputs": [
    {
     "name": "stdout",
     "output_type": "stream",
     "text": [
      "Videos\n",
      "Monkeypox is a zoonotic viral disease, which means it can spread from animals to humans and also spread between people. Here is all you need to know...\n",
      "Videos3 days ago\n",
      "Videos\n",
      "As an active mode of self-preservation, Sadhguru has been riding from country to country in hopes of awakening the citizens of the world to rise to the occasion and ‘Save Soil’. Sadhguru talks to Khaleej Times about various factors — eroding urban consciousness and how soil is the one unifying factor that can bring humanity together\n",
      "Videos4 days ago\n",
      "Videos\n",
      "The current Umrah season for Muslims travelling to Saudi Arabia from outside the Kingdom will conclude on May 31, as preparations will begin to welcome foreign Haj pilgrims\n",
      "Videos1 week ago\n",
      "Videos\n",
      "The present Ruler of Abu Dhabi, he is the third son of the late Sheikh Zayed bin Sultan Al Nahyan, who was the Founding Father of the nation and the first President of the UAE.\n",
      "Videos1 week ago\n",
      "Food\n",
      "For this Food Trail, we are trying out Dubai's famous takeout joint, Dürüm, named after the popular Turkish wrap they serve. We also went behind the scenes to find out how it's made and what makes it special\n",
      "Food1 week ago\n",
      "Videos\n",
      "A sandstorm hit Abu Dhabi and Dubai on Tuesday, reducing visibility to less than 500 metres in some areas\n",
      "Videos1 week ago\n",
      "Videos\n",
      "As a result of his regular interaction with the public, President His Highness Sheikh Mohamed bin Zayed Al Nahyan has left Emiratis, expats impressed by his simplicity, humility and his down-to-earth nature\n",
      "Videos1 week ago\n",
      "Videos\n",
      "His Highness Sheikh Khalifa bin Zayed Al Nahyan, UAE President and Ruler of Abu Dhabi, passed away on Friday, May 13, the Ministry of Presidential Affairs announced\n",
      "Videos2 weeks ago\n",
      "Videos\n",
      "Funeral prayer for late UAE President Sheikh Khalifa bin Zayed Al Nahyan was offered after the Magrib prayer at Al Farooq Omar Bin Al Khattab Mosque in Dubai on Friday\n",
      "Videos2 weeks ago\n",
      "Videos\n",
      "Kenyan national Anna Qabale Duba was crowned the first-ever recipient of the Aster Guardians Global Nursing Award on Thursday\n",
      "Videos2 weeks ago\n",
      "Videos\n",
      "Hospitality experts at the Arabian Travel Market tell us what makes the emirates an attractive destination and what do they expect in the near future\n",
      "Videos2 weeks ago\n",
      "Videos\n",
      "7 government departments, 17 private entities from Sharjah are participating at this year's Arabian Travel Market. We speak to the Chairman of Sharjah Tourism and Chairman of Sharjah Airport to discuss the emirate's performance during the first quarter of 2022\n",
      "Videos2 weeks ago\n",
      "Business\n",
      "In conversation with Khaleej Times, the Chief Commercial Officer of Emirates revealed that the airline witnessed a high seat factor of up to 80% during the Eid period, adding that they expect operations to reach 85% of their capacity by the winter season this year.\n",
      "Business2 weeks ago\n",
      "Videos\n",
      "Indian YouTuber and podcaster Ranveer Allahbadia, famously known as BeerBiceps talks about love, marriage, and why he quit engineering to be a full-time content creator\n",
      "Videos2 weeks ago\n",
      "Videos\n",
      "IPL update with Ayaz Memon, an analysis of the latest game: Lucknow Super Giants and Gujarat Titans in lead\n",
      "Videos2 weeks ago\n",
      "Videos\n",
      "Allison Poerner conducts water tasting sessions for restaurants, which involves pairing and contrasting water with food. Water does have taste, which is determined by its Total Dissolved Solids, she says. \n",
      "Videos3 weeks ago\n",
      "\n"
     ]
    }
   ],
   "source": [
    "print(scrapText(\"https://www.khaleejtimes.com/videos/sandstorm-in-uae-all-you-need-to-know\"))"
   ]
  }
 ],
 "metadata": {
  "interpreter": {
   "hash": "2b85bf68d51e34d95835416afdd522bc73f0a0d9d2a47b4ca4c294dcef5f2a71"
  },
  "kernelspec": {
   "display_name": "Python 3.10.4 64-bit (windows store)",
   "language": "python",
   "name": "python3"
  },
  "language_info": {
   "codemirror_mode": {
    "name": "ipython",
    "version": 3
   },
   "file_extension": ".py",
   "mimetype": "text/x-python",
   "name": "python",
   "nbconvert_exporter": "python",
   "pygments_lexer": "ipython3",
   "version": "3.10.4"
  },
  "orig_nbformat": 4
 },
 "nbformat": 4,
 "nbformat_minor": 2
}
