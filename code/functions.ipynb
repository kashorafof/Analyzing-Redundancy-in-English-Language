{
 "cells": [
  {
   "cell_type": "code",
   "execution_count": 3,
   "metadata": {},
   "outputs": [],
   "source": [
    "from bs4 import BeautifulSoup, SoupStrainer\n",
    "import requests\n",
    "import httplib2\n",
    "import os\n",
    "from os.path import exists\n",
    "import csv\n",
    "import copy\n",
    "\n",
    "def cc(x):\n",
    "    return 5*x\n",
    "\n",
    "def scrapText(link):\n",
    "\n",
    "    \n",
    "    headers = requests.utils.default_headers()\n",
    "\n",
    "    headers.update(\n",
    "        {\n",
    "            'User-Agent': 'My User Agent 1.0',\n",
    "        }\n",
    "    )\n",
    "\n",
    "    url_extract = requests.get(link, headers=headers).text\n",
    "    soup = BeautifulSoup(url_extract,\"html.parser\" )\n",
    "    texts = soup.find_all('p')\n",
    "    s = \"\"\n",
    "    Length = len(texts)\n",
    "    for i in range(3 , Length):\n",
    "        if texts[i].text == \"ALSO READ:\": break\n",
    "        s +=  texts[i].text + '\\n'\n",
    "    return s\n",
    "\n",
    "\n"
   ]
  },
  {
   "cell_type": "code",
   "execution_count": 25,
   "metadata": {},
   "outputs": [
    {
     "data": {
      "text/plain": [
       "96"
      ]
     },
     "execution_count": 25,
     "metadata": {},
     "output_type": "execute_result"
    }
   ],
   "source": [
    "\n",
    "import nltk\n",
    "from nltk.tokenize import sent_tokenize, word_tokenize\n",
    "def CoordinaryConjunction(txt):\n",
    "    tokenized = word_tokenize(txt)\n",
    "    posTag = nltk.pos_tag(tokenized)\n",
    "    count = 0\n",
    "    for tag in posTag:\n",
    "        if(tag[1] == 'CC'):\n",
    "            count+=+1\n",
    "    return count"
   ]
  },
  {
   "cell_type": "code",
   "execution_count": null,
   "metadata": {},
   "outputs": [],
   "source": [
    "#txt = 'She tried on the dress'\n",
    "txt = open(\"checking.txt\", \"r\").read()\n",
    "\n",
    "def count_Phrasel_Verb(txt):\n",
    "    nlp = spacy.load(\"en_core_web_lg\")\n",
    "    doc = nlp(txt)\n",
    "    arr = [ [word.lemma_ ,child.lemma_] for word in doc if word.pos_ == 'VERB' for child in word.children  if child.pos_ == 'ADP']\n",
    "    # for word in doc:\n",
    "    #     if word.pos_ != 'VERB':\n",
    "    #         continue\n",
    "    #     for child in word.children:\n",
    "    #         if child.pos_ == 'ADP':\n",
    "    #             print(child)\n",
    "    #print(len(arr))\n",
    "    return len(arr)\n"
   ]
  },
  {
   "cell_type": "code",
   "execution_count": 2,
   "metadata": {},
   "outputs": [],
   "source": [
    "\n",
    "words = [\" and \", \" or \", \" nor \", \" if \", \" because \", \" unless \"] # to do\n",
    "\n",
    "def get_statistics(text, acc):\n",
    "    \n",
    "    for word in words:\n",
    "        if not (word in acc.keys()):\n",
    "            acc[word] = 0\n",
    "        acc[word] = acc[word] + text.count(word)\n",
    "    return acc\n"
   ]
  },
  {
   "cell_type": "code",
   "execution_count": 112,
   "metadata": {},
   "outputs": [],
   "source": [
    "#!pip install textacy\n",
    "#!python -m spacy download en_core_web_lg\n",
    "#!python -m spacy download en_core_web_md\n",
    "#!python -m spacy download en_core_web_sm\n",
    "\n",
    "import textacy\n",
    "import spacy\n",
    "nlp = spacy.load(\"en_core_web_lg\")\n",
    "pattern = r'(<VERB>?<ADV>*<VERB>+)'\n",
    "txt = open(\"checking.txt\", \"r\").read()\n",
    "\n",
    "#about_talk_doc = textacy.make_spacy_doc(about_talk_text, lang = 'en_core_web_sm')\n",
    "doc = nlp(txt).sents\n",
    "\n",
    "\n",
    "\n",
    "sentences = list(doc)\n",
    "sentences\n",
    "for sentence in sentences:\n",
    "    print(sentence)\n",
    "    for child in sentence.root.children:\n",
    "\n",
    "        #noun_triples = textacy.extract.triples.expand_noun(child)\n",
    "        if(len(child.conjuncts)>1):\n",
    "            print(noun_triples)\n",
    "    print()\n",
    "#child = doc.\n",
    "#noun_triples = textacy.extract.triples.expand_noun(nlp(txt).sents)\n",
    "#nlp_text = nlp(about_talk_text)\n",
    "\n",
    "#nlp_text.conjuncts\n",
    "#nlp_text\n",
    "#nlp_text[10]\n",
    "# for noun in nouns_triples:\n",
    "#     print(noun)\n",
    "\n",
    "# for verb in verb_triples:\n",
    "#     print(verb)\n",
    "# for chunk in about_talk_doc.noun_chunks:\n",
    "#     print (chunk)"
   ]
  },
  {
   "cell_type": "code",
   "execution_count": 41,
   "metadata": {},
   "outputs": [
    {
     "name": "stdout",
     "output_type": "stream",
     "text": [
      "[('Because', 'IN'), ('Hamza', 'NNP'), ('has', 'VBZ'), ('four', 'CD'), ('hundred', 'VBN'), ('dirhams', 'NNS'), (',', ','), ('nor', 'CC'), ('he', 'PRP'), ('saves', 'VBZ'), ('one', 'CD'), ('hundred', 'VBD'), ('more', 'RBR'), (',', ','), ('he', 'PRP'), ('can', 'MD'), ('buy', 'VB'), ('the', 'DT'), ('new', 'JJ'), ('computer', 'NN'), ('game', 'NN')]\n"
     ]
    }
   ],
   "source": [
    "\n",
    "import textacy\n",
    "from spacy import displacy\n",
    "nlp = spacy.load(\"en_core_web_lg\")\n",
    "#txt = open(\"checking.txt\", \"r\").read()\n",
    "txt = 'Because Hamza has four hundred dirhams, if he saves one hundred more, he can buy the new computer game'\n",
    "tokenized = word_tokenize(txt)\n",
    "posTag = nltk.pos_tag(tokenized)\n",
    "print(posTag)\n",
    "#displacy.serve(nlp(txt), style='dep')"
   ]
  },
  {
   "cell_type": "code",
   "execution_count": 58,
   "metadata": {},
   "outputs": [
    {
     "data": {
      "text/html": [
       "<span class=\"tex2jax_ignore\"><!DOCTYPE html>\n",
       "<html lang=\"en\">\n",
       "    <head>\n",
       "        <title>displaCy</title>\n",
       "    </head>\n",
       "\n",
       "    <body style=\"font-size: 16px; font-family: -apple-system, BlinkMacSystemFont, 'Segoe UI', Helvetica, Arial, sans-serif, 'Apple Color Emoji', 'Segoe UI Emoji', 'Segoe UI Symbol'; padding: 4rem 2rem; direction: ltr\">\n",
       "<figure style=\"margin-bottom: 6rem\">\n",
       "<svg xmlns=\"http://www.w3.org/2000/svg\" xmlns:xlink=\"http://www.w3.org/1999/xlink\" xml:lang=\"en\" id=\"df70f9d66e814ef38ad1f48daeb2c4e9-0\" class=\"displacy\" width=\"925\" height=\"312.0\" direction=\"ltr\" style=\"max-width: none; height: 312.0px; color: #000000; background: #ffffff; font-family: Arial; direction: ltr\">\n",
       "<text class=\"displacy-token\" fill=\"currentColor\" text-anchor=\"middle\" y=\"222.0\">\n",
       "    <tspan class=\"displacy-word\" fill=\"currentColor\" x=\"50\">She</tspan>\n",
       "    <tspan class=\"displacy-tag\" dy=\"2em\" fill=\"currentColor\" x=\"50\">PRON</tspan>\n",
       "</text>\n",
       "\n",
       "<text class=\"displacy-token\" fill=\"currentColor\" text-anchor=\"middle\" y=\"222.0\">\n",
       "    <tspan class=\"displacy-word\" fill=\"currentColor\" x=\"225\">tried</tspan>\n",
       "    <tspan class=\"displacy-tag\" dy=\"2em\" fill=\"currentColor\" x=\"225\">VERB</tspan>\n",
       "</text>\n",
       "\n",
       "<text class=\"displacy-token\" fill=\"currentColor\" text-anchor=\"middle\" y=\"222.0\">\n",
       "    <tspan class=\"displacy-word\" fill=\"currentColor\" x=\"400\">on</tspan>\n",
       "    <tspan class=\"displacy-tag\" dy=\"2em\" fill=\"currentColor\" x=\"400\">ADP</tspan>\n",
       "</text>\n",
       "\n",
       "<text class=\"displacy-token\" fill=\"currentColor\" text-anchor=\"middle\" y=\"222.0\">\n",
       "    <tspan class=\"displacy-word\" fill=\"currentColor\" x=\"575\">the</tspan>\n",
       "    <tspan class=\"displacy-tag\" dy=\"2em\" fill=\"currentColor\" x=\"575\">DET</tspan>\n",
       "</text>\n",
       "\n",
       "<text class=\"displacy-token\" fill=\"currentColor\" text-anchor=\"middle\" y=\"222.0\">\n",
       "    <tspan class=\"displacy-word\" fill=\"currentColor\" x=\"750\">dress</tspan>\n",
       "    <tspan class=\"displacy-tag\" dy=\"2em\" fill=\"currentColor\" x=\"750\">NOUN</tspan>\n",
       "</text>\n",
       "\n",
       "<g class=\"displacy-arrow\">\n",
       "    <path class=\"displacy-arc\" id=\"arrow-df70f9d66e814ef38ad1f48daeb2c4e9-0-0\" stroke-width=\"2px\" d=\"M70,177.0 C70,89.5 220.0,89.5 220.0,177.0\" fill=\"none\" stroke=\"currentColor\"/>\n",
       "    <text dy=\"1.25em\" style=\"font-size: 0.8em; letter-spacing: 1px\">\n",
       "        <textPath xlink:href=\"#arrow-df70f9d66e814ef38ad1f48daeb2c4e9-0-0\" class=\"displacy-label\" startOffset=\"50%\" side=\"left\" fill=\"currentColor\" text-anchor=\"middle\">nsubj</textPath>\n",
       "    </text>\n",
       "    <path class=\"displacy-arrowhead\" d=\"M70,179.0 L62,167.0 78,167.0\" fill=\"currentColor\"/>\n",
       "</g>\n",
       "\n",
       "<g class=\"displacy-arrow\">\n",
       "    <path class=\"displacy-arc\" id=\"arrow-df70f9d66e814ef38ad1f48daeb2c4e9-0-1\" stroke-width=\"2px\" d=\"M245,177.0 C245,89.5 395.0,89.5 395.0,177.0\" fill=\"none\" stroke=\"currentColor\"/>\n",
       "    <text dy=\"1.25em\" style=\"font-size: 0.8em; letter-spacing: 1px\">\n",
       "        <textPath xlink:href=\"#arrow-df70f9d66e814ef38ad1f48daeb2c4e9-0-1\" class=\"displacy-label\" startOffset=\"50%\" side=\"left\" fill=\"currentColor\" text-anchor=\"middle\">prep</textPath>\n",
       "    </text>\n",
       "    <path class=\"displacy-arrowhead\" d=\"M395.0,179.0 L403.0,167.0 387.0,167.0\" fill=\"currentColor\"/>\n",
       "</g>\n",
       "\n",
       "<g class=\"displacy-arrow\">\n",
       "    <path class=\"displacy-arc\" id=\"arrow-df70f9d66e814ef38ad1f48daeb2c4e9-0-2\" stroke-width=\"2px\" d=\"M595,177.0 C595,89.5 745.0,89.5 745.0,177.0\" fill=\"none\" stroke=\"currentColor\"/>\n",
       "    <text dy=\"1.25em\" style=\"font-size: 0.8em; letter-spacing: 1px\">\n",
       "        <textPath xlink:href=\"#arrow-df70f9d66e814ef38ad1f48daeb2c4e9-0-2\" class=\"displacy-label\" startOffset=\"50%\" side=\"left\" fill=\"currentColor\" text-anchor=\"middle\">det</textPath>\n",
       "    </text>\n",
       "    <path class=\"displacy-arrowhead\" d=\"M595,179.0 L587,167.0 603,167.0\" fill=\"currentColor\"/>\n",
       "</g>\n",
       "\n",
       "<g class=\"displacy-arrow\">\n",
       "    <path class=\"displacy-arc\" id=\"arrow-df70f9d66e814ef38ad1f48daeb2c4e9-0-3\" stroke-width=\"2px\" d=\"M420,177.0 C420,2.0 750.0,2.0 750.0,177.0\" fill=\"none\" stroke=\"currentColor\"/>\n",
       "    <text dy=\"1.25em\" style=\"font-size: 0.8em; letter-spacing: 1px\">\n",
       "        <textPath xlink:href=\"#arrow-df70f9d66e814ef38ad1f48daeb2c4e9-0-3\" class=\"displacy-label\" startOffset=\"50%\" side=\"left\" fill=\"currentColor\" text-anchor=\"middle\">pobj</textPath>\n",
       "    </text>\n",
       "    <path class=\"displacy-arrowhead\" d=\"M750.0,179.0 L758.0,167.0 742.0,167.0\" fill=\"currentColor\"/>\n",
       "</g>\n",
       "</svg>\n",
       "</figure>\n",
       "</body>\n",
       "</html></span>"
      ],
      "text/plain": [
       "<IPython.core.display.HTML object>"
      ]
     },
     "metadata": {},
     "output_type": "display_data"
    }
   ],
   "source": [
    "displacy.render(doc, page=\"false\", jupyter=True)"
   ]
  },
  {
   "cell_type": "code",
   "execution_count": 101,
   "metadata": {},
   "outputs": [
    {
     "name": "stdout",
     "output_type": "stream",
     "text": [
      "220\n"
     ]
    }
   ],
   "source": [
    "#txt = 'She tried on the dress'\n",
    "#txt = open(\"checking.txt\", \"r\").read()\n",
    "\n",
    "#nlp = spacy.load(\"en_core_web_lg\")\n",
    "#doc = nlp(txt)\n",
    "arr = [ [word.lemma_ ,child.lemma_] for word in doc if word.pos_ == 'VERB' for child in word.children  if child.pos_ == 'ADP']\n",
    "print(len(arr))\n"
   ]
  }
 ],
 "metadata": {
  "kernelspec": {
   "display_name": "Python 3.9.1 64-bit",
   "language": "python",
   "name": "python3"
  },
  "language_info": {
   "codemirror_mode": {
    "name": "ipython",
    "version": 3
   },
   "file_extension": ".py",
   "mimetype": "text/x-python",
   "name": "python",
   "nbconvert_exporter": "python",
   "pygments_lexer": "ipython3",
   "version": "3.9.1"
  },
  "orig_nbformat": 4,
  "vscode": {
   "interpreter": {
    "hash": "5f52a3f3578b02bbf604551531def6b1550332462d8e3ad268b50e01ccd36abe"
   }
  }
 },
 "nbformat": 4,
 "nbformat_minor": 2
}
