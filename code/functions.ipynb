{
 "cells": [
  {
   "cell_type": "code",
   "execution_count": 14,
   "metadata": {},
   "outputs": [],
   "source": [
    "from bs4 import BeautifulSoup, SoupStrainer\n",
    "import requests\n",
    "import httplib2\n",
    "import os\n",
    "from os.path import exists\n",
    "import csv\n",
    "import copy\n",
    "\n",
    "def cc(x):\n",
    "    return 5*x\n",
    "\n",
    "def linkToText(link):\n",
    "    n = \"https://www.khaleejtimes.com/uae/dust-storm-in-uae-visibility-down-to-100-metres-in-some-areas\"\n",
    "    url_extract = requests.get(n).text\n",
    "    soup = BeautifulSoup(url_extract, )\n",
    "    texts = soup.find_all('p')\n",
    "    s = \"\"\n",
    "    Length = len(texts)\n",
    "    for i in range(3 , Length):\n",
    "        if texts[i].text == \"ALSO READ:\": break\n",
    "        s +=  texts[i].text + '\\n'\n",
    "    return s\n",
    "\n",
    "\n"
   ]
  },
  {
   "cell_type": "code",
   "execution_count": null,
   "metadata": {},
   "outputs": [],
   "source": []
  }
 ],
 "metadata": {
  "interpreter": {
   "hash": "2b85bf68d51e34d95835416afdd522bc73f0a0d9d2a47b4ca4c294dcef5f2a71"
  },
  "kernelspec": {
   "display_name": "Python 3.10.4 64-bit (windows store)",
   "language": "python",
   "name": "python3"
  },
  "language_info": {
   "codemirror_mode": {
    "name": "ipython",
    "version": 3
   },
   "file_extension": ".py",
   "mimetype": "text/x-python",
   "name": "python",
   "nbconvert_exporter": "python",
   "pygments_lexer": "ipython3",
   "version": "3.10.4"
  },
  "orig_nbformat": 4
 },
 "nbformat": 4,
 "nbformat_minor": 2
}
